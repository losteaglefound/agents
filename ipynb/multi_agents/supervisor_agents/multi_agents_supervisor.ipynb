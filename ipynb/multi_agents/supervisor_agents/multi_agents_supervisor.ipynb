{
 "cells": [
  {
   "cell_type": "code",
   "execution_count": 35,
   "id": "0776ddc9",
   "metadata": {},
   "outputs": [],
   "source": [
    "import asyncio\n",
    "import os\n",
    "\n",
    "from dotenv import load_dotenv\n",
    "from IPython.display import display, Image\n",
    "from langchain.chat_models import init_chat_model\n",
    "from langchain_core.messages import convert_to_messages\n",
    "from langchain_tavily import TavilySearch\n",
    "from langgraph.prebuilt import create_react_agent\n",
    "from langgraph_supervisor import create_supervisor"
   ]
  },
  {
   "cell_type": "code",
   "execution_count": 3,
   "id": "437964db",
   "metadata": {},
   "outputs": [],
   "source": [
    "web_search = TavilySearch(max_results=3)"
   ]
  },
  {
   "cell_type": "markdown",
   "id": "7e4ef725",
   "metadata": {},
   "source": [
    "### Worker agent"
   ]
  },
  {
   "cell_type": "code",
   "execution_count": null,
   "id": "8601b2db",
   "metadata": {},
   "outputs": [
    {
     "data": {
      "text/plain": [
       "'[Sign up](https://x.com/i/flow/signup) [](https://x.com/) [1,264 Following](https://x.com/NYCMayor/following) [1.5M Followers](https://x.com/NYCMayor/verified_followers) [Posts](https://x.com/NYCMayor?lang=en) [Replies](https://x.com/NYCMayor/with_replies?lang=en) [Highlights](https://x.com/NYCMayor/highlights?lang=en) [Media](https://x.com/NYCMayor/media?lang=en) [![Image 3](https://pbs.twimg.com/profile_images/1619354647705042946/eKfUt2ma_normal.jpg)](https://x.com/NYCMayor) [Mayor Eric Adams](https://x.com/NYCMayor) [@NYCMayor](https://x.com/NYCMayor) [14h](https://x.com/NYCMayor/status/1969860290184352089) [45K](https://x.com/NYCMayor/status/1969860290184352089/analytics) [![Image 4](https://pbs.twimg.com/profile_images/1619354647705042946/eKfUt2ma_normal.jpg)](https://x.com/NYCMayor) [Mayor Eric Adams](https://x.com/NYCMayor) [@NYCMayor](https://x.com/NYCMayor) [Jan 13, 2021](https://x.com/NYCMayor/status/1349348625663610882) [](https://x.com/NYCMayor/status/1349348625663610882/analytics) [![Image 5](https://pbs.twimg.com/profile_images/1619354647705042946/eKfUt2ma_normal.jpg)](https://x.com/NYCMayor) [Mayor Eric Adams](https://x.com/NYCMayor) [@NYCMayor](https://x.com/NYCMayor) [May 4, 2019](https://x.com/NYCMayor/status/1124679619339345926) [](https://x.com/NYCMayor/status/1124679619339345926/analytics) [![Image 7](https://pbs.twimg.com/profile_images/1619354647705042946/eKfUt2ma_normal.jpg)](https://x.com/NYCMayor) [Mayor Eric Adams](https://x.com/NYCMayor) [@NYCMayor](https://x.com/NYCMayor) [Mar 27, 2020](https://x.com/NYCMayor/status/1243493495714840576) [](https://x.com/NYCMayor/status/1243493495714840576/analytics) [![Image 8](https://pbs.twimg.com/profile_images/1619354647705042946/eKfUt2ma_normal.jpg)](https://x.com/NYCMayor) [Mayor Eric Adams](https://x.com/NYCMayor) [@NYCMayor](https://x.com/NYCMayor) [May 11, 2019](https://x.com/NYCMayor/status/1127223743594496001) [](https://x.com/NYCMayor/status/1127223743594496001/analytics) [![Image 10](https://pbs.twimg.com/profile_images/1619354647705042946/eKfUt2ma_normal.jpg)](https://x.com/NYCMayor) [Mayor Eric Adams](https://x.com/NYCMayor) [@NYCMayor](https://x.com/NYCMayor) [Jun 5, 2017](https://x.com/NYCMayor/status/871768812894531584) [](https://x.com/NYCMayor/status/871768812894531584/analytics) [![Image 11](https://pbs.twimg.com/profile_images/1619354647705042946/eKfUt2ma_normal.jpg)](https://x.com/NYCMayor) [Mayor Eric Adams](https://x.com/NYCMayor) [@NYCMayor](https://x.com/NYCMayor) [Jun 7, 2020](https://x.com/NYCMayor/status/1269650502284972032) [](https://x.com/NYCMayor/status/1269650502284972032/analytics) [![Image 12](https://pbs.twimg.com/profile_images/1619354647705042946/eKfUt2ma_normal.jpg)](https://x.com/NYCMayor) [Mayor Eric Adams](https://x.com/NYCMayor) [@NYCMayor](https://x.com/NYCMayor) [Apr 3, 2017](https://x.com/NYCMayor/status/848982168500137984) [](https://x.com/NYCMayor/status/848982168500137984/analytics) [![Image 13](https://pbs.twimg.com/profile_images/1619354647705042946/eKfUt2ma_normal.jpg)](https://x.com/NYCMayor) [Mayor Eric Adams](https://x.com/NYCMayor) [@NYCMayor](https://x.com/NYCMayor) [Jan 5, 2022](https://x.com/NYCMayor/status/1478792811818500101) [](https://x.com/NYCMayor/status/1478792811818500101/analytics) [![Image 14](https://pbs.twimg.com/profile_images/1619354647705042946/eKfUt2ma_normal.jpg)](https://x.com/NYCMayor) [Mayor Eric Adams](https://x.com/NYCMayor) [@NYCMayor](https://x.com/NYCMayor) [Aug 21, 2018](https://x.com/NYCMayor/status/1031916753838895105) [](https://x.com/NYCMayor/status/1031916753838895105/analytics) [![Image 16](https://pbs.twimg.com/profile_images/1619354647705042946/eKfUt2ma_normal.jpg)](https://x.com/NYCMayor) [Mayor Eric Adams](https://x.com/NYCMayor) [@NYCMayor](https://x.com/NYCMayor) [Sep 5, 2017](https://x.com/NYCMayor/status/905101482852278275) [@realDonaldTrump](https://x.com/realDonaldTrump) [](https://x.com/NYCMayor/status/905101482852278275/analytics)'"
      ]
     },
     "execution_count": 6,
     "metadata": {},
     "output_type": "execute_result"
    }
   ],
   "source": [
    "web_search_results = web_search.invoke('Who is the mayor of NYC?')\n",
    "web_search_results['results'][0][\"content\"]"
   ]
  },
  {
   "cell_type": "code",
   "execution_count": null,
   "id": "509b0c09",
   "metadata": {},
   "outputs": [],
   "source": [
    "async def build_research_system_prompt() -> str:\n",
    "    return (\n",
    "        \"You are a research agent.\\n\\n\"\n",
    "        \"INSTRUCTIONS:\\n\"\n",
    "        \"- Assist ONLY with research-related tasks, DO NOT do any math\\n\"\n",
    "        \"- After you're done with your tasks, respond to the supervisor directly\\n\"\n",
    "        \"- Respond ONLY with the results of your work, do NOT include ANY other text.\"\n",
    "    )"
   ]
  },
  {
   "cell_type": "code",
   "execution_count": null,
   "id": "7f0e60eb",
   "metadata": {},
   "outputs": [],
   "source": [
    "system_prompt = await build_research_system_prompt()\n",
    "\n",
    "research_agent = create_react_agent(\n",
    "    model=f\"openai:gpt-4o\",\n",
    "    tools=[web_search],\n",
    "    prompt=system_prompt,\n",
    "    name='research_agent'\n",
    ")"
   ]
  },
  {
   "cell_type": "code",
   "execution_count": null,
   "id": "08933f20",
   "metadata": {},
   "outputs": [],
   "source": [
    "async def pretty_print_message(message, indent=False):\n",
    "    pretty_message = message.pretty_repr(html=True)\n",
    "    if not indent:\n",
    "        print(pretty_message)\n",
    "        return\n",
    "    \n",
    "    indented = \"\\n\".join(\"\\t\" + c for c in pretty_message.split('\\n'))\n",
    "    print(indented)\n",
    "    \n",
    "    \n",
    "async def pretty_print_messages(update, last_message=False):\n",
    "    is_subgraph = False\n",
    "    if isinstance(update, tuple):\n",
    "        ns, update = update\n",
    "        # skip parent graph updates in the printouts\n",
    "        if len(ns) == 0:\n",
    "            return \n",
    "        \n",
    "        graph_id = ns[-1].split(\":\")[0]\n",
    "        print(f\"Update from subgraph {graph_id}:\")\n",
    "        print(\"\\n\")\n",
    "        is_subgraph = True\n",
    "        \n",
    "    for node_name, node_update in update.items():\n",
    "        update_label = f\"Update from node {node_name}:\"\n",
    "        if is_subgraph:\n",
    "            update_label = \"\\t\" + update_label\n",
    "        \n",
    "        print(update_label)\n",
    "        print(\"\\n\")\n",
    "        \n",
    "        messages = convert_to_messages(node_update['messages'])\n",
    "        if last_message:\n",
    "            messages = messages[-1:]\n",
    "            \n",
    "        for m in messages:\n",
    "            await pretty_print_message(m, indent=is_subgraph)\n",
    "        print(\"\\n\")"
   ]
  },
  {
   "cell_type": "code",
   "execution_count": null,
   "id": "04b242c5",
   "metadata": {},
   "outputs": [
    {
     "name": "stdout",
     "output_type": "stream",
     "text": [
      "Update from node agent:\n",
      "\n",
      "\n",
      "==================================\u001b[1m Ai Message \u001b[0m==================================\n",
      "Name: research_agent\n",
      "Tool Calls:\n",
      "  tavily_search (call_CD8OQ85uuGrTMViHgPTg3xYj)\n",
      " Call ID: call_CD8OQ85uuGrTMViHgPTg3xYj\n",
      "  Args:\n",
      "    query: current mayor of New York City\n",
      "    search_depth: basic\n",
      "\n",
      "\n",
      "Update from node tools:\n",
      "\n",
      "\n",
      "=================================\u001b[1m Tool Message \u001b[0m=================================\n",
      "Name: tavily_search\n",
      "\n",
      "{\"query\": \"current mayor of New York City\", \"follow_up_questions\": null, \"answer\": null, \"images\": [], \"results\": [{\"url\": \"https://www.nyc.gov/mayors-office\", \"title\": \"Welcome to the Mayor's Office - NYC.gov\", \"content\": \"Mayor Eric Adams has served the people of New York City as an NYPD officer, State Senator, Brooklyn Borough President, and now as the 110th Mayor of the\", \"score\": 0.80771893, \"raw_content\": null}, {\"url\": \"https://www.cnn.com/2025/09/28/us/video/enten-nyc-mayoralrace-nr\", \"title\": \"Harry Enten breaks down the current odds for the NYC mayoral race\", \"content\": \"As New York City Mayor Eric Adams ends his reelection bid, CNN's chief data analyst Harry Enten runs the numbers with Jessica Dean.\", \"score\": 0.78611463, \"raw_content\": null}, {\"url\": \"https://en.wikipedia.org/wiki/Eric_Adams\", \"title\": \"Eric Adams - Wikipedia\", \"content\": \"Eric Leroy Adams (born September 1, 1960) is an American politician and former police officer who has served since 2022 as the 110th mayor of New York City.\", \"score\": 0.74273956, \"raw_content\": null}], \"response_time\": 1.06, \"request_id\": \"7c986c09-17f9-444e-8a16-0894c887cb99\"}\n",
      "\n",
      "\n",
      "Update from node agent:\n",
      "\n",
      "\n",
      "==================================\u001b[1m Ai Message \u001b[0m==================================\n",
      "Name: research_agent\n",
      "\n",
      "The current mayor of New York City is Eric Adams.\n",
      "\n",
      "\n"
     ]
    }
   ],
   "source": [
    "async for chunk in research_agent.astream(\n",
    "    {\"messages\": [{\"role\": \"user\", \"content\": \"Who is the mayor of NYC?\"}]}\n",
    "):\n",
    "    await pretty_print_messages(chunk)"
   ]
  },
  {
   "cell_type": "markdown",
   "id": "6b5e3803",
   "metadata": {},
   "source": [
    "### Math agent"
   ]
  },
  {
   "cell_type": "code",
   "execution_count": 20,
   "id": "b06a3922",
   "metadata": {},
   "outputs": [],
   "source": [
    "async def add(a: float, b: float):\n",
    "    \"\"\"Add two numbers\"\"\"\n",
    "    return a + b\n",
    "\n",
    "async def mulitply(a: float, b: float):\n",
    "    \"\"\"Multiply two numbers\"\"\"\n",
    "    return a * b\n",
    "\n",
    "async def divide(a: float, b: float):\n",
    "    \"\"\"Divide two numbers\"\"\"\n",
    "    return a / b\n",
    "\n",
    "\n",
    "    "
   ]
  },
  {
   "cell_type": "code",
   "execution_count": 28,
   "id": "4ced1888",
   "metadata": {},
   "outputs": [],
   "source": [
    "async def build_math_system_prompt():\n",
    "    return (\n",
    "        \"You are a math agent.\\n\\n\"\n",
    "        \"INSTRUCTIONS:\\n\"\n",
    "        \"- Assist ONLY with math-related tasks\\n\"\n",
    "        \"- After you're done with your tasks, respond to the supervisor directly\\n\"\n",
    "        \"- Respond ONLY with the results of your work, do NOT include ANY other text.\"\n",
    "    )"
   ]
  },
  {
   "cell_type": "code",
   "execution_count": 29,
   "id": "e10bb02f",
   "metadata": {},
   "outputs": [],
   "source": [
    "math_system_prompt = await build_math_system_prompt()\n",
    "\n",
    "math_agent = create_react_agent(\n",
    "    model=f\"openai:gpt-4o\",\n",
    "    tools=[add, mulitply, divide],\n",
    "    prompt=math_system_prompt,\n",
    "    name=\"math_agent\"\n",
    ")"
   ]
  },
  {
   "cell_type": "code",
   "execution_count": 30,
   "id": "e0d117a9",
   "metadata": {},
   "outputs": [
    {
     "name": "stdout",
     "output_type": "stream",
     "text": [
      "Update from node agent:\n",
      "\n",
      "\n",
      "==================================\u001b[1m Ai Message \u001b[0m==================================\n",
      "Name: math_agent\n",
      "Tool Calls:\n",
      "  add (call_mw4wG2AVMyV5Cm5NVk7Xzhxm)\n",
      " Call ID: call_mw4wG2AVMyV5Cm5NVk7Xzhxm\n",
      "  Args:\n",
      "    a: 3\n",
      "    b: 5\n",
      "\n",
      "\n",
      "Update from node tools:\n",
      "\n",
      "\n",
      "=================================\u001b[1m Tool Message \u001b[0m=================================\n",
      "Name: add\n",
      "\n",
      "8.0\n",
      "\n",
      "\n",
      "Update from node agent:\n",
      "\n",
      "\n",
      "==================================\u001b[1m Ai Message \u001b[0m==================================\n",
      "Name: math_agent\n",
      "Tool Calls:\n",
      "  mulitply (call_HI2y7hL5dWNBtczYUBaRZFWe)\n",
      " Call ID: call_HI2y7hL5dWNBtczYUBaRZFWe\n",
      "  Args:\n",
      "    a: 8.0\n",
      "    b: 7\n",
      "\n",
      "\n",
      "Update from node tools:\n",
      "\n",
      "\n",
      "=================================\u001b[1m Tool Message \u001b[0m=================================\n",
      "Name: mulitply\n",
      "\n",
      "56.0\n",
      "\n",
      "\n",
      "Update from node agent:\n",
      "\n",
      "\n",
      "==================================\u001b[1m Ai Message \u001b[0m==================================\n",
      "Name: math_agent\n",
      "\n",
      "56.0\n",
      "\n",
      "\n"
     ]
    }
   ],
   "source": [
    "async for chunk in math_agent.astream(\n",
    "    {\"messages\": [{\"role\": \"user\", \"content\": \"what's (3 + 5) x 7\"}]}\n",
    "):\n",
    "    await pretty_print_messages(chunk)"
   ]
  },
  {
   "cell_type": "markdown",
   "id": "2e538767",
   "metadata": {},
   "source": [
    "### Supervisor agent"
   ]
  },
  {
   "cell_type": "code",
   "execution_count": 33,
   "id": "2e544e28",
   "metadata": {},
   "outputs": [],
   "source": [
    "async def build_supervisor_agent_prompt():\n",
    "    return (\n",
    "        \"You are a supervisor managing two agents:\\n\"\n",
    "        \"- a research agent. Assign research-related tasks to this agent\\n\"\n",
    "        \"- a math agent. Assign math-related tasks to this agent\\n\"\n",
    "        \"Assign work to one agent at a time, do not call agents in parallel.\\n\"\n",
    "        \"Do not do any work yourself.\"\n",
    "    )"
   ]
  },
  {
   "cell_type": "code",
   "execution_count": 34,
   "id": "3966a9be",
   "metadata": {},
   "outputs": [],
   "source": [
    "supervisor_agent_prompt = await build_supervisor_agent_prompt()\n",
    "\n",
    "supervisor = create_supervisor(\n",
    "    model=init_chat_model(\"openai:gpt-4o\"),\n",
    "    agents=[research_agent, math_agent],\n",
    "    prompt=supervisor_agent_prompt,\n",
    "    add_handoff_back_messages=True,\n",
    "    output_mode='full_history'\n",
    ").compile()"
   ]
  },
  {
   "cell_type": "code",
   "execution_count": 36,
   "id": "9d1f9a2f",
   "metadata": {},
   "outputs": [
    {
     "data": {
      "image/png": "[encoded data removed]",
      "text/plain": [
       "<IPython.core.display.Image object>"
      ]
     },
     "metadata": {},
     "output_type": "display_data"
    }
   ],
   "source": [
    "display(Image(supervisor.get_graph().draw_mermaid_png()))"
   ]
  },
  {
   "cell_type": "code",
   "execution_count": 38,
   "id": "3c03cfe9",
   "metadata": {},
   "outputs": [
    {
     "name": "stdout",
     "output_type": "stream",
     "text": [
      "{'supervisor': {'messages': [HumanMessage(content='find US and New York state GDP in 2024. what % of US GDP was New York state?', additional_kwargs={}, response_metadata={}, id='a1d55137-ebc0-4d38-a59e-d5040fdd2ca9'), AIMessage(content='', additional_kwargs={'tool_calls': [{'id': 'call_5m6r4RDKQef5wjLcRijivVtq', 'function': {'arguments': '{}', 'name': 'transfer_to_research_agent'}, 'type': 'function'}], 'refusal': None}, response_metadata={'token_usage': {'completion_tokens': 13, 'prompt_tokens': 141, 'total_tokens': 154, 'completion_tokens_details': {'accepted_prediction_tokens': 0, 'audio_tokens': 0, 'reasoning_tokens': 0, 'rejected_prediction_tokens': 0}, 'prompt_tokens_details': {'audio_tokens': 0, 'cached_tokens': 0}}, 'model_name': 'gpt-4o-2024-08-06', 'system_fingerprint': 'fp_cbf1785567', 'id': 'chatcmpl-CLvohGpneV6XqrTeuQOLAcj5EDHXs', 'service_tier': 'default', 'finish_reason': 'tool_calls', 'logprobs': None}, name='supervisor', id='run--5c98ca7b-1cc3-4400-8d38-a318fb87f2b9-0', tool_calls=[{'name': 'transfer_to_research_agent', 'args': {}, 'id': 'call_5m6r4RDKQef5wjLcRijivVtq', 'type': 'tool_call'}], usage_metadata={'input_tokens': 141, 'output_tokens': 13, 'total_tokens': 154, 'input_token_details': {'audio': 0, 'cache_read': 0}, 'output_token_details': {'audio': 0, 'reasoning': 0}}), ToolMessage(content='Successfully transferred to research_agent', name='transfer_to_research_agent', id='023fd094-c811-4d14-a276-4d006c196d81', tool_call_id='call_5m6r4RDKQef5wjLcRijivVtq')]}}\n",
      "Update from node supervisor:\n",
      "\n",
      "\n",
      "=================================\u001b[1m Tool Message \u001b[0m=================================\n",
      "Name: transfer_to_research_agent\n",
      "\n",
      "Successfully transferred to research_agent\n",
      "\n",
      "\n",
      "{'research_agent': {'messages': [HumanMessage(content='find US and New York state GDP in 2024. what % of US GDP was New York state?', additional_kwargs={}, response_metadata={}, id='a1d55137-ebc0-4d38-a59e-d5040fdd2ca9'), AIMessage(content='', additional_kwargs={'tool_calls': [{'id': 'call_5m6r4RDKQef5wjLcRijivVtq', 'function': {'arguments': '{}', 'name': 'transfer_to_research_agent'}, 'type': 'function'}], 'refusal': None}, response_metadata={'token_usage': {'completion_tokens': 13, 'prompt_tokens': 141, 'total_tokens': 154, 'completion_tokens_details': {'accepted_prediction_tokens': 0, 'audio_tokens': 0, 'reasoning_tokens': 0, 'rejected_prediction_tokens': 0}, 'prompt_tokens_details': {'audio_tokens': 0, 'cached_tokens': 0}}, 'model_name': 'gpt-4o-2024-08-06', 'system_fingerprint': 'fp_cbf1785567', 'id': 'chatcmpl-CLvohGpneV6XqrTeuQOLAcj5EDHXs', 'service_tier': 'default', 'finish_reason': 'tool_calls', 'logprobs': None}, name='supervisor', id='run--5c98ca7b-1cc3-4400-8d38-a318fb87f2b9-0', tool_calls=[{'name': 'transfer_to_research_agent', 'args': {}, 'id': 'call_5m6r4RDKQef5wjLcRijivVtq', 'type': 'tool_call'}], usage_metadata={'input_tokens': 141, 'output_tokens': 13, 'total_tokens': 154, 'input_token_details': {'audio': 0, 'cache_read': 0}, 'output_token_details': {'audio': 0, 'reasoning': 0}}), ToolMessage(content='Successfully transferred to research_agent', name='transfer_to_research_agent', id='023fd094-c811-4d14-a276-4d006c196d81', tool_call_id='call_5m6r4RDKQef5wjLcRijivVtq'), AIMessage(content='', additional_kwargs={'tool_calls': [{'id': 'call_2UWuSl21822rzqyYDItDO9ST', 'function': {'arguments': '{\"query\": \"US GDP 2024\"}', 'name': 'tavily_search'}, 'type': 'function'}, {'id': 'call_g5ZkwXmdNjI5nNV1sTB6e1gM', 'function': {'arguments': '{\"query\": \"New York State GDP 2024\"}', 'name': 'tavily_search'}, 'type': 'function'}], 'refusal': None}, response_metadata={'token_usage': {'completion_tokens': 58, 'prompt_tokens': 1376, 'total_tokens': 1434, 'completion_tokens_details': {'accepted_prediction_tokens': 0, 'audio_tokens': 0, 'reasoning_tokens': 0, 'rejected_prediction_tokens': 0}, 'prompt_tokens_details': {'audio_tokens': 0, 'cached_tokens': 1280}}, 'model_name': 'gpt-4o-2024-08-06', 'system_fingerprint': 'fp_f33640a400', 'id': 'chatcmpl-CLvoiCHX7S4rU9G1jESIFu79kQwuu', 'service_tier': 'default', 'finish_reason': 'tool_calls', 'logprobs': None}, name='research_agent', id='run--31952d72-7b96-4b90-b38b-8c02e2ac46b9-0', tool_calls=[{'name': 'tavily_search', 'args': {'query': 'US GDP 2024'}, 'id': 'call_2UWuSl21822rzqyYDItDO9ST', 'type': 'tool_call'}, {'name': 'tavily_search', 'args': {'query': 'New York State GDP 2024'}, 'id': 'call_g5ZkwXmdNjI5nNV1sTB6e1gM', 'type': 'tool_call'}], usage_metadata={'input_tokens': 1376, 'output_tokens': 58, 'total_tokens': 1434, 'input_token_details': {'audio': 0, 'cache_read': 1280}, 'output_token_details': {'audio': 0, 'reasoning': 0}}), ToolMessage(content='{\"query\": \"US GDP 2024\", \"follow_up_questions\": null, \"answer\": null, \"images\": [], \"results\": [{\"url\": \"https://tradingeconomics.com/united-states/gdp\", \"title\": \"United States GDP - Trading Economics\", \"content\": \"The Gross Domestic Product (GDP) in the United States was worth 29184.89 billion US dollars in 2024, according to official data from the World Bank. The GDP value of the United States represents 27.49 percent of the world economy. This page provides - United States GDP - actual values, historical data, forecast, chart, statistics, economic calendar and news.\", \"score\": 0.95468557, \"raw_content\": null}, {\"url\": \"https://www.statista.com/statistics/188105/annual-gdp-of-the-united-states-since-1990/?srsltid=AfmBOopYzzpOzMogJ0hBwMlTmMYBIVQlp5qWrBeXW0QPJFFe4zaF9MDI\", \"title\": \"United States GDP 1990-2024 - Statista\", \"content\": \"In 2024, the US GDP increased from the previous year to about 29.18 trillion US dollars. Gross domestic product (GDP) refers to the market value of all goods\", \"score\": 0.9338243, \"raw_content\": null}, {\"url\": \"https://www.bea.gov/news/2025/gross-domestic-product-4th-quarter-and-year-2024-third-estimate-gdp-industry-and\", \"title\": \"Gross Domestic Product, 4th Quarter and Year 2024 (Third Estimate ...\", \"content\": \"**Real gross domestic product (GDP)** increased at an annual rate of 2.4 percent in the fourth quarter of 2024 (October, November, and December), according to the third estimate released by the U.S. Bureau of Economic Analysis. The increase in **real GDP** in the fourth quarter primarily reflected increases in consumer spending and government spending that were partly offset by a decrease in investment. The **price index for gross domestic purchases** increased 2.2 percent in the fourth quarter, revised down 0.1 percentage point from the previous estimate. Real GDP increased at an annual rate of 2.4 percent (0.6 percent at a quarterly rate1), an upward revision of 0.1 percentage point from the previous estimate, primarily reflecting a downward revision to imports that was partly offset by a downward revision to consumer spending.\", \"score\": 0.9067276, \"raw_content\": null}], \"response_time\": 1.32, \"request_id\": \"99155363-9136-49cd-a069-a92f14ad0497\"}', name='tavily_search', id='34e0fe2f-60b9-4574-8acd-0745003b1ad9', tool_call_id='call_2UWuSl21822rzqyYDItDO9ST'), ToolMessage(content='{\"query\": \"New York State GDP 2024\", \"follow_up_questions\": null, \"answer\": null, \"images\": [], \"results\": [{\"url\": \"https://usafacts.org/answers/what-is-the-gross-domestic-product-gdp/state/new-york/#:~:text=Real GDP increased from 2023 to reach $1.8 trillion in 2024.\", \"title\": \"What is the gross domestic product (GDP) in New York?\", \"content\": \"Real GDP increased from 2023 to reach $1.8 trillion in 2024.\", \"score\": 0.98538, \"raw_content\": null}, {\"url\": \"https://en.wikipedia.org/wiki/Economy_of_New_York_(state)\", \"title\": \"Economy of New York (state)\", \"content\": \"# Economy of New York (state) This article is about the overall economy of New York State. If New York State \\\\\"New York (state)\\\\\") were an independent nation, it would rank as the 8th largest economy in the world by nominal GDP. However, in 2024, the multi-state, New York City-centered metropolitan statistical area produced a gross metropolitan product (GMP) over $US2.6 trillion, ranking first nationally by a wide margin and also ranked as the largest GDP in the world. In 2018, the New York State Energy Research and Development Authority awarded long-term contracts to 22 utility-scale solar farms, totaling a combined capacity of 646 MW. **^** \\\\\"State Solar Spotlight New York\\\\\" (PDF).\", \"score\": 0.98388, \"raw_content\": null}, {\"url\": \"https://www.ibisworld.com/united-states/economic-profiles/new-york/\", \"title\": \"New York Economic Trends, Stats & Rankings\", \"content\": \"In 2024, the state of New York has a population of 19,482,372, having grown an annualized 0.0% over the five years to 2024, which ranks it 44th out of all 50 US states by growth rate. Learn about current trends affecting the most significant industries for New York\\'s state economy, down to the county level. The Finance and Insurance, Real Estate and Rental and Leasing and Information sectors contributed the most to New York\\'s GDP in 2024, representing a combined 46.3% of state GDP. The Healthcare and Social Assistance, Educational Services and Retail Trade sectors contributed the most to employment in New York in 2024, representing a combined 38.2% of state employment.\", \"score\": 0.97885, \"raw_content\": null}], \"response_time\": 2.06, \"request_id\": \"7e22f05b-2357-46f3-81b6-931753b7e970\"}', name='tavily_search', id='9023fd79-771c-420f-9f71-17dbd39e6f78', tool_call_id='call_g5ZkwXmdNjI5nNV1sTB6e1gM'), AIMessage(content=\"- **US GDP in 2024**: $29.18 trillion (Trading Economics, Statista).\\n- **New York State GDP in 2024**: $1.8 trillion (USAFacts).\\n\\nNow, let's calculate what percentage of the US GDP was New York State's GDP in 2024:\\n\\n\\\\[\\n\\\\text{Percentage} = \\\\left(\\\\frac{\\\\text{New York GDP}}{\\\\text{US GDP}}\\\\right) \\\\times 100\\n\\\\]\", additional_kwargs={'refusal': None}, response_metadata={'token_usage': {'completion_tokens': 100, 'prompt_tokens': 2630, 'total_tokens': 2730, 'completion_tokens_details': {'accepted_prediction_tokens': 0, 'audio_tokens': 0, 'reasoning_tokens': 0, 'rejected_prediction_tokens': 0}, 'prompt_tokens_details': {'audio_tokens': 0, 'cached_tokens': 1408}}, 'model_name': 'gpt-4o-2024-08-06', 'system_fingerprint': 'fp_f33640a400', 'id': 'chatcmpl-CLvopD8YXibyCCunK6Vd8Y52DYuq7', 'service_tier': 'default', 'finish_reason': 'stop', 'logprobs': None}, name='research_agent', id='run--fc8a6115-25de-422a-b712-52d579ea9201-0', usage_metadata={'input_tokens': 2630, 'output_tokens': 100, 'total_tokens': 2730, 'input_token_details': {'audio': 0, 'cache_read': 1408}, 'output_token_details': {'audio': 0, 'reasoning': 0}}), AIMessage(content='Transferring back to supervisor', additional_kwargs={}, response_metadata={'__is_handoff_back': True}, name='research_agent', id='a6d0542b-bb78-431a-95f0-8ef8c8d68a1e', tool_calls=[{'name': 'transfer_back_to_supervisor', 'args': {}, 'id': '48fd3c1c-34ff-45d7-8c1e-4f83038547e5', 'type': 'tool_call'}]), ToolMessage(content='Successfully transferred back to supervisor', name='transfer_back_to_supervisor', id='f0fa4087-3406-4718-a896-bb1e67f1ba71', tool_call_id='48fd3c1c-34ff-45d7-8c1e-4f83038547e5')]}}\n",
      "Update from node research_agent:\n",
      "\n",
      "\n",
      "=================================\u001b[1m Tool Message \u001b[0m=================================\n",
      "Name: transfer_back_to_supervisor\n",
      "\n",
      "Successfully transferred back to supervisor\n",
      "\n",
      "\n",
      "{'supervisor': {'messages': [HumanMessage(content='find US and New York state GDP in 2024. what % of US GDP was New York state?', additional_kwargs={}, response_metadata={}, id='a1d55137-ebc0-4d38-a59e-d5040fdd2ca9'), AIMessage(content='', additional_kwargs={'tool_calls': [{'id': 'call_5m6r4RDKQef5wjLcRijivVtq', 'function': {'arguments': '{}', 'name': 'transfer_to_research_agent'}, 'type': 'function'}], 'refusal': None}, response_metadata={'token_usage': {'completion_tokens': 13, 'prompt_tokens': 141, 'total_tokens': 154, 'completion_tokens_details': {'accepted_prediction_tokens': 0, 'audio_tokens': 0, 'reasoning_tokens': 0, 'rejected_prediction_tokens': 0}, 'prompt_tokens_details': {'audio_tokens': 0, 'cached_tokens': 0}}, 'model_name': 'gpt-4o-2024-08-06', 'system_fingerprint': 'fp_cbf1785567', 'id': 'chatcmpl-CLvohGpneV6XqrTeuQOLAcj5EDHXs', 'service_tier': 'default', 'finish_reason': 'tool_calls', 'logprobs': None}, name='supervisor', id='run--5c98ca7b-1cc3-4400-8d38-a318fb87f2b9-0', tool_calls=[{'name': 'transfer_to_research_agent', 'args': {}, 'id': 'call_5m6r4RDKQef5wjLcRijivVtq', 'type': 'tool_call'}], usage_metadata={'input_tokens': 141, 'output_tokens': 13, 'total_tokens': 154, 'input_token_details': {'audio': 0, 'cache_read': 0}, 'output_token_details': {'audio': 0, 'reasoning': 0}}), ToolMessage(content='Successfully transferred to research_agent', name='transfer_to_research_agent', id='023fd094-c811-4d14-a276-4d006c196d81', tool_call_id='call_5m6r4RDKQef5wjLcRijivVtq'), AIMessage(content='', additional_kwargs={'tool_calls': [{'id': 'call_2UWuSl21822rzqyYDItDO9ST', 'function': {'arguments': '{\"query\": \"US GDP 2024\"}', 'name': 'tavily_search'}, 'type': 'function'}, {'id': 'call_g5ZkwXmdNjI5nNV1sTB6e1gM', 'function': {'arguments': '{\"query\": \"New York State GDP 2024\"}', 'name': 'tavily_search'}, 'type': 'function'}], 'refusal': None}, response_metadata={'token_usage': {'completion_tokens': 58, 'prompt_tokens': 1376, 'total_tokens': 1434, 'completion_tokens_details': {'accepted_prediction_tokens': 0, 'audio_tokens': 0, 'reasoning_tokens': 0, 'rejected_prediction_tokens': 0}, 'prompt_tokens_details': {'audio_tokens': 0, 'cached_tokens': 1280}}, 'model_name': 'gpt-4o-2024-08-06', 'system_fingerprint': 'fp_f33640a400', 'id': 'chatcmpl-CLvoiCHX7S4rU9G1jESIFu79kQwuu', 'service_tier': 'default', 'finish_reason': 'tool_calls', 'logprobs': None}, name='research_agent', id='run--31952d72-7b96-4b90-b38b-8c02e2ac46b9-0', tool_calls=[{'name': 'tavily_search', 'args': {'query': 'US GDP 2024'}, 'id': 'call_2UWuSl21822rzqyYDItDO9ST', 'type': 'tool_call'}, {'name': 'tavily_search', 'args': {'query': 'New York State GDP 2024'}, 'id': 'call_g5ZkwXmdNjI5nNV1sTB6e1gM', 'type': 'tool_call'}], usage_metadata={'input_tokens': 1376, 'output_tokens': 58, 'total_tokens': 1434, 'input_token_details': {'audio': 0, 'cache_read': 1280}, 'output_token_details': {'audio': 0, 'reasoning': 0}}), ToolMessage(content='{\"query\": \"US GDP 2024\", \"follow_up_questions\": null, \"answer\": null, \"images\": [], \"results\": [{\"url\": \"https://tradingeconomics.com/united-states/gdp\", \"title\": \"United States GDP - Trading Economics\", \"content\": \"The Gross Domestic Product (GDP) in the United States was worth 29184.89 billion US dollars in 2024, according to official data from the World Bank. The GDP value of the United States represents 27.49 percent of the world economy. This page provides - United States GDP - actual values, historical data, forecast, chart, statistics, economic calendar and news.\", \"score\": 0.95468557, \"raw_content\": null}, {\"url\": \"https://www.statista.com/statistics/188105/annual-gdp-of-the-united-states-since-1990/?srsltid=AfmBOopYzzpOzMogJ0hBwMlTmMYBIVQlp5qWrBeXW0QPJFFe4zaF9MDI\", \"title\": \"United States GDP 1990-2024 - Statista\", \"content\": \"In 2024, the US GDP increased from the previous year to about 29.18 trillion US dollars. Gross domestic product (GDP) refers to the market value of all goods\", \"score\": 0.9338243, \"raw_content\": null}, {\"url\": \"https://www.bea.gov/news/2025/gross-domestic-product-4th-quarter-and-year-2024-third-estimate-gdp-industry-and\", \"title\": \"Gross Domestic Product, 4th Quarter and Year 2024 (Third Estimate ...\", \"content\": \"**Real gross domestic product (GDP)** increased at an annual rate of 2.4 percent in the fourth quarter of 2024 (October, November, and December), according to the third estimate released by the U.S. Bureau of Economic Analysis. The increase in **real GDP** in the fourth quarter primarily reflected increases in consumer spending and government spending that were partly offset by a decrease in investment. The **price index for gross domestic purchases** increased 2.2 percent in the fourth quarter, revised down 0.1 percentage point from the previous estimate. Real GDP increased at an annual rate of 2.4 percent (0.6 percent at a quarterly rate1), an upward revision of 0.1 percentage point from the previous estimate, primarily reflecting a downward revision to imports that was partly offset by a downward revision to consumer spending.\", \"score\": 0.9067276, \"raw_content\": null}], \"response_time\": 1.32, \"request_id\": \"99155363-9136-49cd-a069-a92f14ad0497\"}', name='tavily_search', id='34e0fe2f-60b9-4574-8acd-0745003b1ad9', tool_call_id='call_2UWuSl21822rzqyYDItDO9ST'), ToolMessage(content='{\"query\": \"New York State GDP 2024\", \"follow_up_questions\": null, \"answer\": null, \"images\": [], \"results\": [{\"url\": \"https://usafacts.org/answers/what-is-the-gross-domestic-product-gdp/state/new-york/#:~:text=Real GDP increased from 2023 to reach $1.8 trillion in 2024.\", \"title\": \"What is the gross domestic product (GDP) in New York?\", \"content\": \"Real GDP increased from 2023 to reach $1.8 trillion in 2024.\", \"score\": 0.98538, \"raw_content\": null}, {\"url\": \"https://en.wikipedia.org/wiki/Economy_of_New_York_(state)\", \"title\": \"Economy of New York (state)\", \"content\": \"# Economy of New York (state) This article is about the overall economy of New York State. If New York State \\\\\"New York (state)\\\\\") were an independent nation, it would rank as the 8th largest economy in the world by nominal GDP. However, in 2024, the multi-state, New York City-centered metropolitan statistical area produced a gross metropolitan product (GMP) over $US2.6 trillion, ranking first nationally by a wide margin and also ranked as the largest GDP in the world. In 2018, the New York State Energy Research and Development Authority awarded long-term contracts to 22 utility-scale solar farms, totaling a combined capacity of 646 MW. **^** \\\\\"State Solar Spotlight New York\\\\\" (PDF).\", \"score\": 0.98388, \"raw_content\": null}, {\"url\": \"https://www.ibisworld.com/united-states/economic-profiles/new-york/\", \"title\": \"New York Economic Trends, Stats & Rankings\", \"content\": \"In 2024, the state of New York has a population of 19,482,372, having grown an annualized 0.0% over the five years to 2024, which ranks it 44th out of all 50 US states by growth rate. Learn about current trends affecting the most significant industries for New York\\'s state economy, down to the county level. The Finance and Insurance, Real Estate and Rental and Leasing and Information sectors contributed the most to New York\\'s GDP in 2024, representing a combined 46.3% of state GDP. The Healthcare and Social Assistance, Educational Services and Retail Trade sectors contributed the most to employment in New York in 2024, representing a combined 38.2% of state employment.\", \"score\": 0.97885, \"raw_content\": null}], \"response_time\": 2.06, \"request_id\": \"7e22f05b-2357-46f3-81b6-931753b7e970\"}', name='tavily_search', id='9023fd79-771c-420f-9f71-17dbd39e6f78', tool_call_id='call_g5ZkwXmdNjI5nNV1sTB6e1gM'), AIMessage(content=\"- **US GDP in 2024**: $29.18 trillion (Trading Economics, Statista).\\n- **New York State GDP in 2024**: $1.8 trillion (USAFacts).\\n\\nNow, let's calculate what percentage of the US GDP was New York State's GDP in 2024:\\n\\n\\\\[\\n\\\\text{Percentage} = \\\\left(\\\\frac{\\\\text{New York GDP}}{\\\\text{US GDP}}\\\\right) \\\\times 100\\n\\\\]\", additional_kwargs={'refusal': None}, response_metadata={'token_usage': {'completion_tokens': 100, 'prompt_tokens': 2630, 'total_tokens': 2730, 'completion_tokens_details': {'accepted_prediction_tokens': 0, 'audio_tokens': 0, 'reasoning_tokens': 0, 'rejected_prediction_tokens': 0}, 'prompt_tokens_details': {'audio_tokens': 0, 'cached_tokens': 1408}}, 'model_name': 'gpt-4o-2024-08-06', 'system_fingerprint': 'fp_f33640a400', 'id': 'chatcmpl-CLvopD8YXibyCCunK6Vd8Y52DYuq7', 'service_tier': 'default', 'finish_reason': 'stop', 'logprobs': None}, name='research_agent', id='run--fc8a6115-25de-422a-b712-52d579ea9201-0', usage_metadata={'input_tokens': 2630, 'output_tokens': 100, 'total_tokens': 2730, 'input_token_details': {'audio': 0, 'cache_read': 1408}, 'output_token_details': {'audio': 0, 'reasoning': 0}}), AIMessage(content='Transferring back to supervisor', additional_kwargs={}, response_metadata={'__is_handoff_back': True}, name='research_agent', id='a6d0542b-bb78-431a-95f0-8ef8c8d68a1e', tool_calls=[{'name': 'transfer_back_to_supervisor', 'args': {}, 'id': '48fd3c1c-34ff-45d7-8c1e-4f83038547e5', 'type': 'tool_call'}]), ToolMessage(content='Successfully transferred back to supervisor', name='transfer_back_to_supervisor', id='f0fa4087-3406-4718-a896-bb1e67f1ba71', tool_call_id='48fd3c1c-34ff-45d7-8c1e-4f83038547e5'), AIMessage(content='', additional_kwargs={'tool_calls': [{'id': 'call_jyZgvviTfaPBOXgj8zyb4ppc', 'function': {'arguments': '{}', 'name': 'transfer_to_math_agent'}, 'type': 'function'}], 'refusal': None}, response_metadata={'token_usage': {'completion_tokens': 12, 'prompt_tokens': 1578, 'total_tokens': 1590, 'completion_tokens_details': {'accepted_prediction_tokens': 0, 'audio_tokens': 0, 'reasoning_tokens': 0, 'rejected_prediction_tokens': 0}, 'prompt_tokens_details': {'audio_tokens': 0, 'cached_tokens': 0}}, 'model_name': 'gpt-4o-2024-08-06', 'system_fingerprint': 'fp_cbf1785567', 'id': 'chatcmpl-CLvorwd7dQ82AJ78Sb4dWdE01ictj', 'service_tier': 'default', 'finish_reason': 'tool_calls', 'logprobs': None}, name='supervisor', id='run--dfcbf22b-0a2d-4162-bdd8-c98c3f8f1626-0', tool_calls=[{'name': 'transfer_to_math_agent', 'args': {}, 'id': 'call_jyZgvviTfaPBOXgj8zyb4ppc', 'type': 'tool_call'}], usage_metadata={'input_tokens': 1578, 'output_tokens': 12, 'total_tokens': 1590, 'input_token_details': {'audio': 0, 'cache_read': 0}, 'output_token_details': {'audio': 0, 'reasoning': 0}}), ToolMessage(content='Successfully transferred to math_agent', name='transfer_to_math_agent', id='34fdafb1-d27f-46c4-a409-7fc6d5e66bc8', tool_call_id='call_jyZgvviTfaPBOXgj8zyb4ppc')]}}\n",
      "Update from node supervisor:\n",
      "\n",
      "\n",
      "=================================\u001b[1m Tool Message \u001b[0m=================================\n",
      "Name: transfer_to_math_agent\n",
      "\n",
      "Successfully transferred to math_agent\n",
      "\n",
      "\n",
      "{'math_agent': {'messages': [HumanMessage(content='find US and New York state GDP in 2024. what % of US GDP was New York state?', additional_kwargs={}, response_metadata={}, id='a1d55137-ebc0-4d38-a59e-d5040fdd2ca9'), AIMessage(content='', additional_kwargs={'tool_calls': [{'id': 'call_5m6r4RDKQef5wjLcRijivVtq', 'function': {'arguments': '{}', 'name': 'transfer_to_research_agent'}, 'type': 'function'}], 'refusal': None}, response_metadata={'token_usage': {'completion_tokens': 13, 'prompt_tokens': 141, 'total_tokens': 154, 'completion_tokens_details': {'accepted_prediction_tokens': 0, 'audio_tokens': 0, 'reasoning_tokens': 0, 'rejected_prediction_tokens': 0}, 'prompt_tokens_details': {'audio_tokens': 0, 'cached_tokens': 0}}, 'model_name': 'gpt-4o-2024-08-06', 'system_fingerprint': 'fp_cbf1785567', 'id': 'chatcmpl-CLvohGpneV6XqrTeuQOLAcj5EDHXs', 'service_tier': 'default', 'finish_reason': 'tool_calls', 'logprobs': None}, name='supervisor', id='run--5c98ca7b-1cc3-4400-8d38-a318fb87f2b9-0', tool_calls=[{'name': 'transfer_to_research_agent', 'args': {}, 'id': 'call_5m6r4RDKQef5wjLcRijivVtq', 'type': 'tool_call'}], usage_metadata={'input_tokens': 141, 'output_tokens': 13, 'total_tokens': 154, 'input_token_details': {'audio': 0, 'cache_read': 0}, 'output_token_details': {'audio': 0, 'reasoning': 0}}), ToolMessage(content='Successfully transferred to research_agent', name='transfer_to_research_agent', id='023fd094-c811-4d14-a276-4d006c196d81', tool_call_id='call_5m6r4RDKQef5wjLcRijivVtq'), AIMessage(content='', additional_kwargs={'tool_calls': [{'id': 'call_2UWuSl21822rzqyYDItDO9ST', 'function': {'arguments': '{\"query\": \"US GDP 2024\"}', 'name': 'tavily_search'}, 'type': 'function'}, {'id': 'call_g5ZkwXmdNjI5nNV1sTB6e1gM', 'function': {'arguments': '{\"query\": \"New York State GDP 2024\"}', 'name': 'tavily_search'}, 'type': 'function'}], 'refusal': None}, response_metadata={'token_usage': {'completion_tokens': 58, 'prompt_tokens': 1376, 'total_tokens': 1434, 'completion_tokens_details': {'accepted_prediction_tokens': 0, 'audio_tokens': 0, 'reasoning_tokens': 0, 'rejected_prediction_tokens': 0}, 'prompt_tokens_details': {'audio_tokens': 0, 'cached_tokens': 1280}}, 'model_name': 'gpt-4o-2024-08-06', 'system_fingerprint': 'fp_f33640a400', 'id': 'chatcmpl-CLvoiCHX7S4rU9G1jESIFu79kQwuu', 'service_tier': 'default', 'finish_reason': 'tool_calls', 'logprobs': None}, name='research_agent', id='run--31952d72-7b96-4b90-b38b-8c02e2ac46b9-0', tool_calls=[{'name': 'tavily_search', 'args': {'query': 'US GDP 2024'}, 'id': 'call_2UWuSl21822rzqyYDItDO9ST', 'type': 'tool_call'}, {'name': 'tavily_search', 'args': {'query': 'New York State GDP 2024'}, 'id': 'call_g5ZkwXmdNjI5nNV1sTB6e1gM', 'type': 'tool_call'}], usage_metadata={'input_tokens': 1376, 'output_tokens': 58, 'total_tokens': 1434, 'input_token_details': {'audio': 0, 'cache_read': 1280}, 'output_token_details': {'audio': 0, 'reasoning': 0}}), ToolMessage(content='{\"query\": \"US GDP 2024\", \"follow_up_questions\": null, \"answer\": null, \"images\": [], \"results\": [{\"url\": \"https://tradingeconomics.com/united-states/gdp\", \"title\": \"United States GDP - Trading Economics\", \"content\": \"The Gross Domestic Product (GDP) in the United States was worth 29184.89 billion US dollars in 2024, according to official data from the World Bank. The GDP value of the United States represents 27.49 percent of the world economy. This page provides - United States GDP - actual values, historical data, forecast, chart, statistics, economic calendar and news.\", \"score\": 0.95468557, \"raw_content\": null}, {\"url\": \"https://www.statista.com/statistics/188105/annual-gdp-of-the-united-states-since-1990/?srsltid=AfmBOopYzzpOzMogJ0hBwMlTmMYBIVQlp5qWrBeXW0QPJFFe4zaF9MDI\", \"title\": \"United States GDP 1990-2024 - Statista\", \"content\": \"In 2024, the US GDP increased from the previous year to about 29.18 trillion US dollars. Gross domestic product (GDP) refers to the market value of all goods\", \"score\": 0.9338243, \"raw_content\": null}, {\"url\": \"https://www.bea.gov/news/2025/gross-domestic-product-4th-quarter-and-year-2024-third-estimate-gdp-industry-and\", \"title\": \"Gross Domestic Product, 4th Quarter and Year 2024 (Third Estimate ...\", \"content\": \"**Real gross domestic product (GDP)** increased at an annual rate of 2.4 percent in the fourth quarter of 2024 (October, November, and December), according to the third estimate released by the U.S. Bureau of Economic Analysis. The increase in **real GDP** in the fourth quarter primarily reflected increases in consumer spending and government spending that were partly offset by a decrease in investment. The **price index for gross domestic purchases** increased 2.2 percent in the fourth quarter, revised down 0.1 percentage point from the previous estimate. Real GDP increased at an annual rate of 2.4 percent (0.6 percent at a quarterly rate1), an upward revision of 0.1 percentage point from the previous estimate, primarily reflecting a downward revision to imports that was partly offset by a downward revision to consumer spending.\", \"score\": 0.9067276, \"raw_content\": null}], \"response_time\": 1.32, \"request_id\": \"99155363-9136-49cd-a069-a92f14ad0497\"}', name='tavily_search', id='34e0fe2f-60b9-4574-8acd-0745003b1ad9', tool_call_id='call_2UWuSl21822rzqyYDItDO9ST'), ToolMessage(content='{\"query\": \"New York State GDP 2024\", \"follow_up_questions\": null, \"answer\": null, \"images\": [], \"results\": [{\"url\": \"https://usafacts.org/answers/what-is-the-gross-domestic-product-gdp/state/new-york/#:~:text=Real GDP increased from 2023 to reach $1.8 trillion in 2024.\", \"title\": \"What is the gross domestic product (GDP) in New York?\", \"content\": \"Real GDP increased from 2023 to reach $1.8 trillion in 2024.\", \"score\": 0.98538, \"raw_content\": null}, {\"url\": \"https://en.wikipedia.org/wiki/Economy_of_New_York_(state)\", \"title\": \"Economy of New York (state)\", \"content\": \"# Economy of New York (state) This article is about the overall economy of New York State. If New York State \\\\\"New York (state)\\\\\") were an independent nation, it would rank as the 8th largest economy in the world by nominal GDP. However, in 2024, the multi-state, New York City-centered metropolitan statistical area produced a gross metropolitan product (GMP) over $US2.6 trillion, ranking first nationally by a wide margin and also ranked as the largest GDP in the world. In 2018, the New York State Energy Research and Development Authority awarded long-term contracts to 22 utility-scale solar farms, totaling a combined capacity of 646 MW. **^** \\\\\"State Solar Spotlight New York\\\\\" (PDF).\", \"score\": 0.98388, \"raw_content\": null}, {\"url\": \"https://www.ibisworld.com/united-states/economic-profiles/new-york/\", \"title\": \"New York Economic Trends, Stats & Rankings\", \"content\": \"In 2024, the state of New York has a population of 19,482,372, having grown an annualized 0.0% over the five years to 2024, which ranks it 44th out of all 50 US states by growth rate. Learn about current trends affecting the most significant industries for New York\\'s state economy, down to the county level. The Finance and Insurance, Real Estate and Rental and Leasing and Information sectors contributed the most to New York\\'s GDP in 2024, representing a combined 46.3% of state GDP. The Healthcare and Social Assistance, Educational Services and Retail Trade sectors contributed the most to employment in New York in 2024, representing a combined 38.2% of state employment.\", \"score\": 0.97885, \"raw_content\": null}], \"response_time\": 2.06, \"request_id\": \"7e22f05b-2357-46f3-81b6-931753b7e970\"}', name='tavily_search', id='9023fd79-771c-420f-9f71-17dbd39e6f78', tool_call_id='call_g5ZkwXmdNjI5nNV1sTB6e1gM'), AIMessage(content=\"- **US GDP in 2024**: $29.18 trillion (Trading Economics, Statista).\\n- **New York State GDP in 2024**: $1.8 trillion (USAFacts).\\n\\nNow, let's calculate what percentage of the US GDP was New York State's GDP in 2024:\\n\\n\\\\[\\n\\\\text{Percentage} = \\\\left(\\\\frac{\\\\text{New York GDP}}{\\\\text{US GDP}}\\\\right) \\\\times 100\\n\\\\]\", additional_kwargs={'refusal': None}, response_metadata={'token_usage': {'completion_tokens': 100, 'prompt_tokens': 2630, 'total_tokens': 2730, 'completion_tokens_details': {'accepted_prediction_tokens': 0, 'audio_tokens': 0, 'reasoning_tokens': 0, 'rejected_prediction_tokens': 0}, 'prompt_tokens_details': {'audio_tokens': 0, 'cached_tokens': 1408}}, 'model_name': 'gpt-4o-2024-08-06', 'system_fingerprint': 'fp_f33640a400', 'id': 'chatcmpl-CLvopD8YXibyCCunK6Vd8Y52DYuq7', 'service_tier': 'default', 'finish_reason': 'stop', 'logprobs': None}, name='research_agent', id='run--fc8a6115-25de-422a-b712-52d579ea9201-0', usage_metadata={'input_tokens': 2630, 'output_tokens': 100, 'total_tokens': 2730, 'input_token_details': {'audio': 0, 'cache_read': 1408}, 'output_token_details': {'audio': 0, 'reasoning': 0}}), AIMessage(content='Transferring back to supervisor', additional_kwargs={}, response_metadata={'__is_handoff_back': True}, name='research_agent', id='a6d0542b-bb78-431a-95f0-8ef8c8d68a1e', tool_calls=[{'name': 'transfer_back_to_supervisor', 'args': {}, 'id': '48fd3c1c-34ff-45d7-8c1e-4f83038547e5', 'type': 'tool_call'}]), ToolMessage(content='Successfully transferred back to supervisor', name='transfer_back_to_supervisor', id='f0fa4087-3406-4718-a896-bb1e67f1ba71', tool_call_id='48fd3c1c-34ff-45d7-8c1e-4f83038547e5'), AIMessage(content='', additional_kwargs={'tool_calls': [{'id': 'call_jyZgvviTfaPBOXgj8zyb4ppc', 'function': {'arguments': '{}', 'name': 'transfer_to_math_agent'}, 'type': 'function'}], 'refusal': None}, response_metadata={'token_usage': {'completion_tokens': 12, 'prompt_tokens': 1578, 'total_tokens': 1590, 'completion_tokens_details': {'accepted_prediction_tokens': 0, 'audio_tokens': 0, 'reasoning_tokens': 0, 'rejected_prediction_tokens': 0}, 'prompt_tokens_details': {'audio_tokens': 0, 'cached_tokens': 0}}, 'model_name': 'gpt-4o-2024-08-06', 'system_fingerprint': 'fp_cbf1785567', 'id': 'chatcmpl-CLvorwd7dQ82AJ78Sb4dWdE01ictj', 'service_tier': 'default', 'finish_reason': 'tool_calls', 'logprobs': None}, name='supervisor', id='run--dfcbf22b-0a2d-4162-bdd8-c98c3f8f1626-0', tool_calls=[{'name': 'transfer_to_math_agent', 'args': {}, 'id': 'call_jyZgvviTfaPBOXgj8zyb4ppc', 'type': 'tool_call'}], usage_metadata={'input_tokens': 1578, 'output_tokens': 12, 'total_tokens': 1590, 'input_token_details': {'audio': 0, 'cache_read': 0}, 'output_token_details': {'audio': 0, 'reasoning': 0}}), ToolMessage(content='Successfully transferred to math_agent', name='transfer_to_math_agent', id='34fdafb1-d27f-46c4-a409-7fc6d5e66bc8', tool_call_id='call_jyZgvviTfaPBOXgj8zyb4ppc'), AIMessage(content='', additional_kwargs={'tool_calls': [{'id': 'call_o1Ab7uKI1XKqeRbkA9QvpEjE', 'function': {'arguments': '{\"a\":1.8,\"b\":29.18}', 'name': 'divide'}, 'type': 'function'}], 'refusal': None}, response_metadata={'token_usage': {'completion_tokens': 21, 'prompt_tokens': 1625, 'total_tokens': 1646, 'completion_tokens_details': {'accepted_prediction_tokens': 0, 'audio_tokens': 0, 'reasoning_tokens': 0, 'rejected_prediction_tokens': 0}, 'prompt_tokens_details': {'audio_tokens': 0, 'cached_tokens': 0}}, 'model_name': 'gpt-4o-2024-08-06', 'system_fingerprint': 'fp_cbf1785567', 'id': 'chatcmpl-CLvosFzMAgfHkFlAKyxv0kDzuap6m', 'service_tier': 'default', 'finish_reason': 'tool_calls', 'logprobs': None}, name='math_agent', id='run--a627e417-0611-491d-9aa9-2a94c2e51e79-0', tool_calls=[{'name': 'divide', 'args': {'a': 1.8, 'b': 29.18}, 'id': 'call_o1Ab7uKI1XKqeRbkA9QvpEjE', 'type': 'tool_call'}], usage_metadata={'input_tokens': 1625, 'output_tokens': 21, 'total_tokens': 1646, 'input_token_details': {'audio': 0, 'cache_read': 0}, 'output_token_details': {'audio': 0, 'reasoning': 0}}), ToolMessage(content='0.061686086360520906', name='divide', id='28ca4769-e1c5-4981-a5a1-b6a8600ec4f5', tool_call_id='call_o1Ab7uKI1XKqeRbkA9QvpEjE'), AIMessage(content='', additional_kwargs={'tool_calls': [{'id': 'call_JOehKzqULkjHgyD6m9EzDLB7', 'function': {'arguments': '{\"a\":0.061686086360520906,\"b\":100}', 'name': 'mulitply'}, 'type': 'function'}], 'refusal': None}, response_metadata={'token_usage': {'completion_tokens': 26, 'prompt_tokens': 1664, 'total_tokens': 1690, 'completion_tokens_details': {'accepted_prediction_tokens': 0, 'audio_tokens': 0, 'reasoning_tokens': 0, 'rejected_prediction_tokens': 0}, 'prompt_tokens_details': {'audio_tokens': 0, 'cached_tokens': 1536}}, 'model_name': 'gpt-4o-2024-08-06', 'system_fingerprint': 'fp_cbf1785567', 'id': 'chatcmpl-CLvovyrs9ETM9R8VDbhinRSGHiPst', 'service_tier': 'default', 'finish_reason': 'tool_calls', 'logprobs': None}, name='math_agent', id='run--1c7488d5-3931-4810-abc0-2ac2be4176af-0', tool_calls=[{'name': 'mulitply', 'args': {'a': 0.061686086360520906, 'b': 100}, 'id': 'call_JOehKzqULkjHgyD6m9EzDLB7', 'type': 'tool_call'}], usage_metadata={'input_tokens': 1664, 'output_tokens': 26, 'total_tokens': 1690, 'input_token_details': {'audio': 0, 'cache_read': 1536}, 'output_token_details': {'audio': 0, 'reasoning': 0}}), ToolMessage(content='6.168608636052091', name='mulitply', id='5bb680bd-4593-4ea0-8dad-c4da435ffbf8', tool_call_id='call_JOehKzqULkjHgyD6m9EzDLB7'), AIMessage(content='', additional_kwargs={'tool_calls': [{'id': 'call_S5paEOwNP5yHJd4C0kIsr43q', 'function': {'arguments': '{\"a\": 2, \"b\": 2}', 'name': 'add'}, 'type': 'function'}, {'id': 'call_KQvppPfFSSnAIe9X9AxUIxmV', 'function': {'arguments': '{\"a\": 3, \"b\": 3}', 'name': 'add'}, 'type': 'function'}], 'refusal': None}, response_metadata={'token_usage': {'completion_tokens': 50, 'prompt_tokens': 1709, 'total_tokens': 1759, 'completion_tokens_details': {'accepted_prediction_tokens': 0, 'audio_tokens': 0, 'reasoning_tokens': 0, 'rejected_prediction_tokens': 0}, 'prompt_tokens_details': {'audio_tokens': 0, 'cached_tokens': 1664}}, 'model_name': 'gpt-4o-2024-08-06', 'system_fingerprint': 'fp_cbf1785567', 'id': 'chatcmpl-CLvowuSfLVz8HDpOqwC1W99XAsbNh', 'service_tier': 'default', 'finish_reason': 'tool_calls', 'logprobs': None}, name='math_agent', id='run--77670637-4e19-45fb-95df-949f77e2a641-0', tool_calls=[{'name': 'add', 'args': {'a': 2, 'b': 2}, 'id': 'call_S5paEOwNP5yHJd4C0kIsr43q', 'type': 'tool_call'}, {'name': 'add', 'args': {'a': 3, 'b': 3}, 'id': 'call_KQvppPfFSSnAIe9X9AxUIxmV', 'type': 'tool_call'}], usage_metadata={'input_tokens': 1709, 'output_tokens': 50, 'total_tokens': 1759, 'input_token_details': {'audio': 0, 'cache_read': 1664}, 'output_token_details': {'audio': 0, 'reasoning': 0}}), ToolMessage(content='4.0', name='add', id='f5960c6a-d49d-4a68-b5a1-05dd45688fc5', tool_call_id='call_S5paEOwNP5yHJd4C0kIsr43q'), ToolMessage(content='6.0', name='add', id='e0f093d3-6706-40a0-bd5d-114922d2bf91', tool_call_id='call_KQvppPfFSSnAIe9X9AxUIxmV'), AIMessage(content='6.17%', additional_kwargs={'refusal': None}, response_metadata={'token_usage': {'completion_tokens': 5, 'prompt_tokens': 1782, 'total_tokens': 1787, 'completion_tokens_details': {'accepted_prediction_tokens': 0, 'audio_tokens': 0, 'reasoning_tokens': 0, 'rejected_prediction_tokens': 0}, 'prompt_tokens_details': {'audio_tokens': 0, 'cached_tokens': 1664}}, 'model_name': 'gpt-4o-2024-08-06', 'system_fingerprint': 'fp_cbf1785567', 'id': 'chatcmpl-CLvoyHVHb9fthdx7HKRMEoFQ5mlVJ', 'service_tier': 'default', 'finish_reason': 'stop', 'logprobs': None}, name='math_agent', id='run--ff726300-2bde-472e-870d-ad35f23f9df8-0', usage_metadata={'input_tokens': 1782, 'output_tokens': 5, 'total_tokens': 1787, 'input_token_details': {'audio': 0, 'cache_read': 1664}, 'output_token_details': {'audio': 0, 'reasoning': 0}}), AIMessage(content='Transferring back to supervisor', additional_kwargs={}, response_metadata={'__is_handoff_back': True}, name='math_agent', id='2e970a3b-b0cd-4474-8767-dacd9526add5', tool_calls=[{'name': 'transfer_back_to_supervisor', 'args': {}, 'id': 'ee1c86ab-e801-49ea-aa16-af0947106d83', 'type': 'tool_call'}]), ToolMessage(content='Successfully transferred back to supervisor', name='transfer_back_to_supervisor', id='b27ab25d-7be9-445d-9ac3-ddb3dd45da50', tool_call_id='ee1c86ab-e801-49ea-aa16-af0947106d83')]}}\n",
      "Update from node math_agent:\n",
      "\n",
      "\n",
      "=================================\u001b[1m Tool Message \u001b[0m=================================\n",
      "Name: transfer_back_to_supervisor\n",
      "\n",
      "Successfully transferred back to supervisor\n",
      "\n",
      "\n",
      "{'supervisor': {'messages': [HumanMessage(content='find US and New York state GDP in 2024. what % of US GDP was New York state?', additional_kwargs={}, response_metadata={}, id='a1d55137-ebc0-4d38-a59e-d5040fdd2ca9'), AIMessage(content='', additional_kwargs={'tool_calls': [{'id': 'call_5m6r4RDKQef5wjLcRijivVtq', 'function': {'arguments': '{}', 'name': 'transfer_to_research_agent'}, 'type': 'function'}], 'refusal': None}, response_metadata={'token_usage': {'completion_tokens': 13, 'prompt_tokens': 141, 'total_tokens': 154, 'completion_tokens_details': {'accepted_prediction_tokens': 0, 'audio_tokens': 0, 'reasoning_tokens': 0, 'rejected_prediction_tokens': 0}, 'prompt_tokens_details': {'audio_tokens': 0, 'cached_tokens': 0}}, 'model_name': 'gpt-4o-2024-08-06', 'system_fingerprint': 'fp_cbf1785567', 'id': 'chatcmpl-CLvohGpneV6XqrTeuQOLAcj5EDHXs', 'service_tier': 'default', 'finish_reason': 'tool_calls', 'logprobs': None}, name='supervisor', id='run--5c98ca7b-1cc3-4400-8d38-a318fb87f2b9-0', tool_calls=[{'name': 'transfer_to_research_agent', 'args': {}, 'id': 'call_5m6r4RDKQef5wjLcRijivVtq', 'type': 'tool_call'}], usage_metadata={'input_tokens': 141, 'output_tokens': 13, 'total_tokens': 154, 'input_token_details': {'audio': 0, 'cache_read': 0}, 'output_token_details': {'audio': 0, 'reasoning': 0}}), ToolMessage(content='Successfully transferred to research_agent', name='transfer_to_research_agent', id='023fd094-c811-4d14-a276-4d006c196d81', tool_call_id='call_5m6r4RDKQef5wjLcRijivVtq'), AIMessage(content='', additional_kwargs={'tool_calls': [{'id': 'call_2UWuSl21822rzqyYDItDO9ST', 'function': {'arguments': '{\"query\": \"US GDP 2024\"}', 'name': 'tavily_search'}, 'type': 'function'}, {'id': 'call_g5ZkwXmdNjI5nNV1sTB6e1gM', 'function': {'arguments': '{\"query\": \"New York State GDP 2024\"}', 'name': 'tavily_search'}, 'type': 'function'}], 'refusal': None}, response_metadata={'token_usage': {'completion_tokens': 58, 'prompt_tokens': 1376, 'total_tokens': 1434, 'completion_tokens_details': {'accepted_prediction_tokens': 0, 'audio_tokens': 0, 'reasoning_tokens': 0, 'rejected_prediction_tokens': 0}, 'prompt_tokens_details': {'audio_tokens': 0, 'cached_tokens': 1280}}, 'model_name': 'gpt-4o-2024-08-06', 'system_fingerprint': 'fp_f33640a400', 'id': 'chatcmpl-CLvoiCHX7S4rU9G1jESIFu79kQwuu', 'service_tier': 'default', 'finish_reason': 'tool_calls', 'logprobs': None}, name='research_agent', id='run--31952d72-7b96-4b90-b38b-8c02e2ac46b9-0', tool_calls=[{'name': 'tavily_search', 'args': {'query': 'US GDP 2024'}, 'id': 'call_2UWuSl21822rzqyYDItDO9ST', 'type': 'tool_call'}, {'name': 'tavily_search', 'args': {'query': 'New York State GDP 2024'}, 'id': 'call_g5ZkwXmdNjI5nNV1sTB6e1gM', 'type': 'tool_call'}], usage_metadata={'input_tokens': 1376, 'output_tokens': 58, 'total_tokens': 1434, 'input_token_details': {'audio': 0, 'cache_read': 1280}, 'output_token_details': {'audio': 0, 'reasoning': 0}}), ToolMessage(content='{\"query\": \"US GDP 2024\", \"follow_up_questions\": null, \"answer\": null, \"images\": [], \"results\": [{\"url\": \"https://tradingeconomics.com/united-states/gdp\", \"title\": \"United States GDP - Trading Economics\", \"content\": \"The Gross Domestic Product (GDP) in the United States was worth 29184.89 billion US dollars in 2024, according to official data from the World Bank. The GDP value of the United States represents 27.49 percent of the world economy. This page provides - United States GDP - actual values, historical data, forecast, chart, statistics, economic calendar and news.\", \"score\": 0.95468557, \"raw_content\": null}, {\"url\": \"https://www.statista.com/statistics/188105/annual-gdp-of-the-united-states-since-1990/?srsltid=AfmBOopYzzpOzMogJ0hBwMlTmMYBIVQlp5qWrBeXW0QPJFFe4zaF9MDI\", \"title\": \"United States GDP 1990-2024 - Statista\", \"content\": \"In 2024, the US GDP increased from the previous year to about 29.18 trillion US dollars. Gross domestic product (GDP) refers to the market value of all goods\", \"score\": 0.9338243, \"raw_content\": null}, {\"url\": \"https://www.bea.gov/news/2025/gross-domestic-product-4th-quarter-and-year-2024-third-estimate-gdp-industry-and\", \"title\": \"Gross Domestic Product, 4th Quarter and Year 2024 (Third Estimate ...\", \"content\": \"**Real gross domestic product (GDP)** increased at an annual rate of 2.4 percent in the fourth quarter of 2024 (October, November, and December), according to the third estimate released by the U.S. Bureau of Economic Analysis. The increase in **real GDP** in the fourth quarter primarily reflected increases in consumer spending and government spending that were partly offset by a decrease in investment. The **price index for gross domestic purchases** increased 2.2 percent in the fourth quarter, revised down 0.1 percentage point from the previous estimate. Real GDP increased at an annual rate of 2.4 percent (0.6 percent at a quarterly rate1), an upward revision of 0.1 percentage point from the previous estimate, primarily reflecting a downward revision to imports that was partly offset by a downward revision to consumer spending.\", \"score\": 0.9067276, \"raw_content\": null}], \"response_time\": 1.32, \"request_id\": \"99155363-9136-49cd-a069-a92f14ad0497\"}', name='tavily_search', id='34e0fe2f-60b9-4574-8acd-0745003b1ad9', tool_call_id='call_2UWuSl21822rzqyYDItDO9ST'), ToolMessage(content='{\"query\": \"New York State GDP 2024\", \"follow_up_questions\": null, \"answer\": null, \"images\": [], \"results\": [{\"url\": \"https://usafacts.org/answers/what-is-the-gross-domestic-product-gdp/state/new-york/#:~:text=Real GDP increased from 2023 to reach $1.8 trillion in 2024.\", \"title\": \"What is the gross domestic product (GDP) in New York?\", \"content\": \"Real GDP increased from 2023 to reach $1.8 trillion in 2024.\", \"score\": 0.98538, \"raw_content\": null}, {\"url\": \"https://en.wikipedia.org/wiki/Economy_of_New_York_(state)\", \"title\": \"Economy of New York (state)\", \"content\": \"# Economy of New York (state) This article is about the overall economy of New York State. If New York State \\\\\"New York (state)\\\\\") were an independent nation, it would rank as the 8th largest economy in the world by nominal GDP. However, in 2024, the multi-state, New York City-centered metropolitan statistical area produced a gross metropolitan product (GMP) over $US2.6 trillion, ranking first nationally by a wide margin and also ranked as the largest GDP in the world. In 2018, the New York State Energy Research and Development Authority awarded long-term contracts to 22 utility-scale solar farms, totaling a combined capacity of 646 MW. **^** \\\\\"State Solar Spotlight New York\\\\\" (PDF).\", \"score\": 0.98388, \"raw_content\": null}, {\"url\": \"https://www.ibisworld.com/united-states/economic-profiles/new-york/\", \"title\": \"New York Economic Trends, Stats & Rankings\", \"content\": \"In 2024, the state of New York has a population of 19,482,372, having grown an annualized 0.0% over the five years to 2024, which ranks it 44th out of all 50 US states by growth rate. Learn about current trends affecting the most significant industries for New York\\'s state economy, down to the county level. The Finance and Insurance, Real Estate and Rental and Leasing and Information sectors contributed the most to New York\\'s GDP in 2024, representing a combined 46.3% of state GDP. The Healthcare and Social Assistance, Educational Services and Retail Trade sectors contributed the most to employment in New York in 2024, representing a combined 38.2% of state employment.\", \"score\": 0.97885, \"raw_content\": null}], \"response_time\": 2.06, \"request_id\": \"7e22f05b-2357-46f3-81b6-931753b7e970\"}', name='tavily_search', id='9023fd79-771c-420f-9f71-17dbd39e6f78', tool_call_id='call_g5ZkwXmdNjI5nNV1sTB6e1gM'), AIMessage(content=\"- **US GDP in 2024**: $29.18 trillion (Trading Economics, Statista).\\n- **New York State GDP in 2024**: $1.8 trillion (USAFacts).\\n\\nNow, let's calculate what percentage of the US GDP was New York State's GDP in 2024:\\n\\n\\\\[\\n\\\\text{Percentage} = \\\\left(\\\\frac{\\\\text{New York GDP}}{\\\\text{US GDP}}\\\\right) \\\\times 100\\n\\\\]\", additional_kwargs={'refusal': None}, response_metadata={'token_usage': {'completion_tokens': 100, 'prompt_tokens': 2630, 'total_tokens': 2730, 'completion_tokens_details': {'accepted_prediction_tokens': 0, 'audio_tokens': 0, 'reasoning_tokens': 0, 'rejected_prediction_tokens': 0}, 'prompt_tokens_details': {'audio_tokens': 0, 'cached_tokens': 1408}}, 'model_name': 'gpt-4o-2024-08-06', 'system_fingerprint': 'fp_f33640a400', 'id': 'chatcmpl-CLvopD8YXibyCCunK6Vd8Y52DYuq7', 'service_tier': 'default', 'finish_reason': 'stop', 'logprobs': None}, name='research_agent', id='run--fc8a6115-25de-422a-b712-52d579ea9201-0', usage_metadata={'input_tokens': 2630, 'output_tokens': 100, 'total_tokens': 2730, 'input_token_details': {'audio': 0, 'cache_read': 1408}, 'output_token_details': {'audio': 0, 'reasoning': 0}}), AIMessage(content='Transferring back to supervisor', additional_kwargs={}, response_metadata={'__is_handoff_back': True}, name='research_agent', id='a6d0542b-bb78-431a-95f0-8ef8c8d68a1e', tool_calls=[{'name': 'transfer_back_to_supervisor', 'args': {}, 'id': '48fd3c1c-34ff-45d7-8c1e-4f83038547e5', 'type': 'tool_call'}]), ToolMessage(content='Successfully transferred back to supervisor', name='transfer_back_to_supervisor', id='f0fa4087-3406-4718-a896-bb1e67f1ba71', tool_call_id='48fd3c1c-34ff-45d7-8c1e-4f83038547e5'), AIMessage(content='', additional_kwargs={'tool_calls': [{'id': 'call_jyZgvviTfaPBOXgj8zyb4ppc', 'function': {'arguments': '{}', 'name': 'transfer_to_math_agent'}, 'type': 'function'}], 'refusal': None}, response_metadata={'token_usage': {'completion_tokens': 12, 'prompt_tokens': 1578, 'total_tokens': 1590, 'completion_tokens_details': {'accepted_prediction_tokens': 0, 'audio_tokens': 0, 'reasoning_tokens': 0, 'rejected_prediction_tokens': 0}, 'prompt_tokens_details': {'audio_tokens': 0, 'cached_tokens': 0}}, 'model_name': 'gpt-4o-2024-08-06', 'system_fingerprint': 'fp_cbf1785567', 'id': 'chatcmpl-CLvorwd7dQ82AJ78Sb4dWdE01ictj', 'service_tier': 'default', 'finish_reason': 'tool_calls', 'logprobs': None}, name='supervisor', id='run--dfcbf22b-0a2d-4162-bdd8-c98c3f8f1626-0', tool_calls=[{'name': 'transfer_to_math_agent', 'args': {}, 'id': 'call_jyZgvviTfaPBOXgj8zyb4ppc', 'type': 'tool_call'}], usage_metadata={'input_tokens': 1578, 'output_tokens': 12, 'total_tokens': 1590, 'input_token_details': {'audio': 0, 'cache_read': 0}, 'output_token_details': {'audio': 0, 'reasoning': 0}}), ToolMessage(content='Successfully transferred to math_agent', name='transfer_to_math_agent', id='34fdafb1-d27f-46c4-a409-7fc6d5e66bc8', tool_call_id='call_jyZgvviTfaPBOXgj8zyb4ppc'), AIMessage(content='', additional_kwargs={'tool_calls': [{'id': 'call_o1Ab7uKI1XKqeRbkA9QvpEjE', 'function': {'arguments': '{\"a\":1.8,\"b\":29.18}', 'name': 'divide'}, 'type': 'function'}], 'refusal': None}, response_metadata={'token_usage': {'completion_tokens': 21, 'prompt_tokens': 1625, 'total_tokens': 1646, 'completion_tokens_details': {'accepted_prediction_tokens': 0, 'audio_tokens': 0, 'reasoning_tokens': 0, 'rejected_prediction_tokens': 0}, 'prompt_tokens_details': {'audio_tokens': 0, 'cached_tokens': 0}}, 'model_name': 'gpt-4o-2024-08-06', 'system_fingerprint': 'fp_cbf1785567', 'id': 'chatcmpl-CLvosFzMAgfHkFlAKyxv0kDzuap6m', 'service_tier': 'default', 'finish_reason': 'tool_calls', 'logprobs': None}, name='math_agent', id='run--a627e417-0611-491d-9aa9-2a94c2e51e79-0', tool_calls=[{'name': 'divide', 'args': {'a': 1.8, 'b': 29.18}, 'id': 'call_o1Ab7uKI1XKqeRbkA9QvpEjE', 'type': 'tool_call'}], usage_metadata={'input_tokens': 1625, 'output_tokens': 21, 'total_tokens': 1646, 'input_token_details': {'audio': 0, 'cache_read': 0}, 'output_token_details': {'audio': 0, 'reasoning': 0}}), ToolMessage(content='0.061686086360520906', name='divide', id='28ca4769-e1c5-4981-a5a1-b6a8600ec4f5', tool_call_id='call_o1Ab7uKI1XKqeRbkA9QvpEjE'), AIMessage(content='', additional_kwargs={'tool_calls': [{'id': 'call_JOehKzqULkjHgyD6m9EzDLB7', 'function': {'arguments': '{\"a\":0.061686086360520906,\"b\":100}', 'name': 'mulitply'}, 'type': 'function'}], 'refusal': None}, response_metadata={'token_usage': {'completion_tokens': 26, 'prompt_tokens': 1664, 'total_tokens': 1690, 'completion_tokens_details': {'accepted_prediction_tokens': 0, 'audio_tokens': 0, 'reasoning_tokens': 0, 'rejected_prediction_tokens': 0}, 'prompt_tokens_details': {'audio_tokens': 0, 'cached_tokens': 1536}}, 'model_name': 'gpt-4o-2024-08-06', 'system_fingerprint': 'fp_cbf1785567', 'id': 'chatcmpl-CLvovyrs9ETM9R8VDbhinRSGHiPst', 'service_tier': 'default', 'finish_reason': 'tool_calls', 'logprobs': None}, name='math_agent', id='run--1c7488d5-3931-4810-abc0-2ac2be4176af-0', tool_calls=[{'name': 'mulitply', 'args': {'a': 0.061686086360520906, 'b': 100}, 'id': 'call_JOehKzqULkjHgyD6m9EzDLB7', 'type': 'tool_call'}], usage_metadata={'input_tokens': 1664, 'output_tokens': 26, 'total_tokens': 1690, 'input_token_details': {'audio': 0, 'cache_read': 1536}, 'output_token_details': {'audio': 0, 'reasoning': 0}}), ToolMessage(content='6.168608636052091', name='mulitply', id='5bb680bd-4593-4ea0-8dad-c4da435ffbf8', tool_call_id='call_JOehKzqULkjHgyD6m9EzDLB7'), AIMessage(content='', additional_kwargs={'tool_calls': [{'id': 'call_S5paEOwNP5yHJd4C0kIsr43q', 'function': {'arguments': '{\"a\": 2, \"b\": 2}', 'name': 'add'}, 'type': 'function'}, {'id': 'call_KQvppPfFSSnAIe9X9AxUIxmV', 'function': {'arguments': '{\"a\": 3, \"b\": 3}', 'name': 'add'}, 'type': 'function'}], 'refusal': None}, response_metadata={'token_usage': {'completion_tokens': 50, 'prompt_tokens': 1709, 'total_tokens': 1759, 'completion_tokens_details': {'accepted_prediction_tokens': 0, 'audio_tokens': 0, 'reasoning_tokens': 0, 'rejected_prediction_tokens': 0}, 'prompt_tokens_details': {'audio_tokens': 0, 'cached_tokens': 1664}}, 'model_name': 'gpt-4o-2024-08-06', 'system_fingerprint': 'fp_cbf1785567', 'id': 'chatcmpl-CLvowuSfLVz8HDpOqwC1W99XAsbNh', 'service_tier': 'default', 'finish_reason': 'tool_calls', 'logprobs': None}, name='math_agent', id='run--77670637-4e19-45fb-95df-949f77e2a641-0', tool_calls=[{'name': 'add', 'args': {'a': 2, 'b': 2}, 'id': 'call_S5paEOwNP5yHJd4C0kIsr43q', 'type': 'tool_call'}, {'name': 'add', 'args': {'a': 3, 'b': 3}, 'id': 'call_KQvppPfFSSnAIe9X9AxUIxmV', 'type': 'tool_call'}], usage_metadata={'input_tokens': 1709, 'output_tokens': 50, 'total_tokens': 1759, 'input_token_details': {'audio': 0, 'cache_read': 1664}, 'output_token_details': {'audio': 0, 'reasoning': 0}}), ToolMessage(content='4.0', name='add', id='f5960c6a-d49d-4a68-b5a1-05dd45688fc5', tool_call_id='call_S5paEOwNP5yHJd4C0kIsr43q'), ToolMessage(content='6.0', name='add', id='e0f093d3-6706-40a0-bd5d-114922d2bf91', tool_call_id='call_KQvppPfFSSnAIe9X9AxUIxmV'), AIMessage(content='6.17%', additional_kwargs={'refusal': None}, response_metadata={'token_usage': {'completion_tokens': 5, 'prompt_tokens': 1782, 'total_tokens': 1787, 'completion_tokens_details': {'accepted_prediction_tokens': 0, 'audio_tokens': 0, 'reasoning_tokens': 0, 'rejected_prediction_tokens': 0}, 'prompt_tokens_details': {'audio_tokens': 0, 'cached_tokens': 1664}}, 'model_name': 'gpt-4o-2024-08-06', 'system_fingerprint': 'fp_cbf1785567', 'id': 'chatcmpl-CLvoyHVHb9fthdx7HKRMEoFQ5mlVJ', 'service_tier': 'default', 'finish_reason': 'stop', 'logprobs': None}, name='math_agent', id='run--ff726300-2bde-472e-870d-ad35f23f9df8-0', usage_metadata={'input_tokens': 1782, 'output_tokens': 5, 'total_tokens': 1787, 'input_token_details': {'audio': 0, 'cache_read': 1664}, 'output_token_details': {'audio': 0, 'reasoning': 0}}), AIMessage(content='Transferring back to supervisor', additional_kwargs={}, response_metadata={'__is_handoff_back': True}, name='math_agent', id='2e970a3b-b0cd-4474-8767-dacd9526add5', tool_calls=[{'name': 'transfer_back_to_supervisor', 'args': {}, 'id': 'ee1c86ab-e801-49ea-aa16-af0947106d83', 'type': 'tool_call'}]), ToolMessage(content='Successfully transferred back to supervisor', name='transfer_back_to_supervisor', id='b27ab25d-7be9-445d-9ac3-ddb3dd45da50', tool_call_id='ee1c86ab-e801-49ea-aa16-af0947106d83'), AIMessage(content=\"In 2024, New York State's GDP was approximately 6.17% of the US GDP.\", additional_kwargs={'refusal': None}, response_metadata={'token_usage': {'completion_tokens': 23, 'prompt_tokens': 1821, 'total_tokens': 1844, 'completion_tokens_details': {'accepted_prediction_tokens': 0, 'audio_tokens': 0, 'reasoning_tokens': 0, 'rejected_prediction_tokens': 0}, 'prompt_tokens_details': {'audio_tokens': 0, 'cached_tokens': 1536}}, 'model_name': 'gpt-4o-2024-08-06', 'system_fingerprint': 'fp_cbf1785567', 'id': 'chatcmpl-CLvoz3Ca0axrLLbsMClTEZCehjrkQ', 'service_tier': 'default', 'finish_reason': 'stop', 'logprobs': None}, name='supervisor', id='run--1e926110-8e63-4c7f-88fe-cf182bc91312-0', usage_metadata={'input_tokens': 1821, 'output_tokens': 23, 'total_tokens': 1844, 'input_token_details': {'audio': 0, 'cache_read': 1536}, 'output_token_details': {'audio': 0, 'reasoning': 0}})]}}\n",
      "Update from node supervisor:\n",
      "\n",
      "\n",
      "==================================\u001b[1m Ai Message \u001b[0m==================================\n",
      "Name: supervisor\n",
      "\n",
      "In 2024, New York State's GDP was approximately 6.17% of the US GDP.\n",
      "\n",
      "\n"
     ]
    }
   ],
   "source": [
    "async for chunk in supervisor.astream(\n",
    "    {\n",
    "        \"messages\": [\n",
    "            {\n",
    "                \"role\": \"user\",\n",
    "                \"content\": \"find US and New York state GDP in 2024. what % of US GDP was New York state?\",\n",
    "            }\n",
    "        ]\n",
    "    },\n",
    "):\n",
    "    print(chunk)\n",
    "    await pretty_print_messages(chunk, last_message=True)\n",
    "\n",
    "final_message_history = chunk[\"supervisor\"][\"messages\"]"
   ]
  }
 ],
 "metadata": {
  "kernelspec": {
   "display_name": "agents",
   "language": "python",
   "name": "python3"
  },
  "language_info": {
   "codemirror_mode": {
    "name": "ipython",
    "version": 3
   },
   "file_extension": ".py",
   "mimetype": "text/x-python",
   "name": "python",
   "nbconvert_exporter": "python",
   "pygments_lexer": "ipython3",
   "version": "3.12.3"
  }
 },
 "nbformat": 4,
 "nbformat_minor": 5
}
