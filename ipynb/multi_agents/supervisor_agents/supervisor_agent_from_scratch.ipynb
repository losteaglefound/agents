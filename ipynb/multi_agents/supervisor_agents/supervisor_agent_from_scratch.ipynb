{
 "cells": [
  {
   "cell_type": "code",
   "execution_count": 1,
   "id": "4ff1c157",
   "metadata": {},
   "outputs": [],
   "source": [
    "from typing import Annotated\n",
    "\n",
    "from IPython.display import display, Image\n",
    "from langchain_core.tools import tool, InjectedToolCallId\n",
    "from langgraph.graph import END, StateGraph, START, MessagesState\n",
    "from langchain_core.messages import convert_to_messages\n",
    "from langgraph.prebuilt import create_react_agent, InjectedState\n",
    "from langgraph.types import Command\n",
    "from langchain_tavily import TavilySearch"
   ]
  },
  {
   "cell_type": "markdown",
   "id": "4c1ba043",
   "metadata": {},
   "source": [
    "### Print"
   ]
  },
  {
   "cell_type": "code",
   "execution_count": 2,
   "id": "4c8f0d4f",
   "metadata": {},
   "outputs": [],
   "source": [
    "async def pretty_print_message(message, indent=False):\n",
    "    pretty_message = message.pretty_repr(html=True)\n",
    "    if not indent:\n",
    "        print(pretty_message)\n",
    "        return\n",
    "    \n",
    "    indented = \"\\n\".join(\"\\t\" + c for c in pretty_message.split('\\n'))\n",
    "    print(indented)\n",
    "    \n",
    "    \n",
    "async def pretty_print_messages(update, last_message=False):\n",
    "    is_subgraph = False\n",
    "    if isinstance(update, tuple):\n",
    "        ns, update = update\n",
    "        # skip parent graph updates in the printouts\n",
    "        if len(ns) == 0:\n",
    "            return \n",
    "        \n",
    "        graph_id = ns[-1].split(\":\")[0]\n",
    "        print(f\"Update from subgraph {graph_id}:\")\n",
    "        print(\"\\n\")\n",
    "        is_subgraph = True\n",
    "        \n",
    "    for node_name, node_update in update.items():\n",
    "        update_label = f\"Update from node {node_name}:\"\n",
    "        if is_subgraph:\n",
    "            update_label = \"\\t\" + update_label\n",
    "        \n",
    "        print(update_label)\n",
    "        print(\"\\n\")\n",
    "        \n",
    "        messages = convert_to_messages(node_update['messages'])\n",
    "        if last_message:\n",
    "            messages = messages[-1:]\n",
    "            \n",
    "        for m in messages:\n",
    "            await pretty_print_message(m, indent=is_subgraph)\n",
    "        print(\"\\n\")"
   ]
  },
  {
   "cell_type": "markdown",
   "id": "a320ec2f",
   "metadata": {},
   "source": [
    "### Setup agent communication"
   ]
  },
  {
   "cell_type": "code",
   "execution_count": null,
   "id": "776a44c8",
   "metadata": {},
   "outputs": [],
   "source": [
    "async def create_handoff_tool(*, agent_name: str, description: str | None = None):\n",
    "    name = f\"transfer_to_{agent_name}\"\n",
    "    description = description or f\"Ask {agent_name} for help\"\n",
    "    \n",
    "    @tool(name, description=description)\n",
    "    async def handoff_tool(\n",
    "        state: Annotated[MessagesState, InjectedState],\n",
    "        tool_call_id: Annotated[str, InjectedToolCallId]\n",
    "    ) -> Command:\n",
    "        tool_message = ToolCall({\n",
    "            \"role\": \"tool\",\n",
    "            \"content\": f\"Successfully transferred to {agent_name}\",\n",
    "            \"name\": name,\n",
    "            \"tool_call_id\": tool_call_id\n",
    "        })\n",
    "        return Command(\n",
    "            goto=agent_name,\n",
    "            update={**state, \"message\": state['messages'] + [tool_message]},\n",
    "            graph=Command.PARENT\n",
    "        )\n",
    "    \n",
    "    return handoff_tool"
   ]
  },
  {
   "cell_type": "code",
   "execution_count": 4,
   "id": "d3160ee6",
   "metadata": {},
   "outputs": [],
   "source": [
    "assign_to_research_agent = await create_handoff_tool(\n",
    "    agent_name=\"research_agent\",\n",
    "    description=\"Assign task to a researcher agent.\"\n",
    ")\n",
    "\n",
    "assign_to_math_agent = await create_handoff_tool(\n",
    "    agent_name=\"math_agent\",\n",
    "    description=\"Assign task to a math agent\"\n",
    ")"
   ]
  },
  {
   "cell_type": "markdown",
   "id": "34700a11",
   "metadata": {},
   "source": [
    "### Worker agent"
   ]
  },
  {
   "cell_type": "code",
   "execution_count": 5,
   "id": "ac7c3bd6",
   "metadata": {},
   "outputs": [],
   "source": [
    "web_search = TavilySearch(max_results=3)"
   ]
  },
  {
   "cell_type": "code",
   "execution_count": 6,
   "id": "69ea2808",
   "metadata": {},
   "outputs": [],
   "source": [
    "# web_search_results = web_search.invoke('Who is the mayor of NYC?')\n",
    "# web_search_results['results'][0][\"content\"]"
   ]
  },
  {
   "cell_type": "code",
   "execution_count": 7,
   "id": "bd838e84",
   "metadata": {},
   "outputs": [],
   "source": [
    "@tool\n",
    "async def add(a: float, b: float):\n",
    "    \"\"\"Add two numbers\"\"\"\n",
    "    return a + b\n",
    "\n",
    "@tool\n",
    "async def mulitply(a: float, b: float):\n",
    "    \"\"\"Multiply two numbers\"\"\"\n",
    "    return a * b\n",
    "\n",
    "@tool\n",
    "async def divide(a: float, b: float):\n",
    "    \"\"\"Divide two numbers\"\"\"\n",
    "    return a / b\n",
    "\n",
    "\n",
    "    "
   ]
  },
  {
   "cell_type": "code",
   "execution_count": 8,
   "id": "b6026839",
   "metadata": {},
   "outputs": [],
   "source": [
    "async def build_math_system_prompt():\n",
    "    return (\n",
    "        \"You are a math agent.\\n\\n\"\n",
    "        \"INSTRUCTIONS:\\n\"\n",
    "        \"- Assist ONLY with math-related tasks\\n\"\n",
    "        \"- After you're done with your tasks, respond to the supervisor directly\\n\"\n",
    "        \"- Respond ONLY with the results of your work, do NOT include ANY other text.\"\n",
    "    )"
   ]
  },
  {
   "cell_type": "code",
   "execution_count": 9,
   "id": "43c5bb83",
   "metadata": {},
   "outputs": [],
   "source": [
    "math_system_prompt = await build_math_system_prompt()\n",
    "\n",
    "math_agent = create_react_agent(\n",
    "    model=f\"openai:gpt-4o\",\n",
    "    tools=[add, mulitply, divide],\n",
    "    prompt=math_system_prompt,\n",
    "    name=\"math_agent\"\n",
    ")"
   ]
  },
  {
   "cell_type": "code",
   "execution_count": 10,
   "id": "4ec76c5d",
   "metadata": {},
   "outputs": [],
   "source": [
    "async def build_research_system_prompt() -> str:\n",
    "    return (\n",
    "        \"You are a research agent.\\n\\n\"\n",
    "        \"INSTRUCTIONS:\\n\"\n",
    "        \"- Assist ONLY with research-related tasks, DO NOT do any math\\n\"\n",
    "        \"- After you're done with your tasks, respond to the supervisor directly\\n\"\n",
    "        \"- Respond ONLY with the results of your work, do NOT include ANY other text.\"\n",
    "    )"
   ]
  },
  {
   "cell_type": "code",
   "execution_count": 11,
   "id": "5556d231",
   "metadata": {},
   "outputs": [],
   "source": [
    "system_prompt = await build_research_system_prompt()\n",
    "\n",
    "research_agent = create_react_agent(\n",
    "    model=f\"openai:gpt-4o\",\n",
    "    tools=[web_search],\n",
    "    prompt=system_prompt,\n",
    "    name='research_agent'\n",
    ")"
   ]
  },
  {
   "cell_type": "markdown",
   "id": "f627dded",
   "metadata": {},
   "source": [
    "##### Create supervisor agent"
   ]
  },
  {
   "cell_type": "code",
   "execution_count": 12,
   "id": "2cfe2a11",
   "metadata": {},
   "outputs": [],
   "source": [
    "supervisor_prompt = (\n",
    "    \"You are a supervisor managing two agents:\\n\"\n",
    "    \"- a research agent. Assign research-related tasks to this agent\\n\"\n",
    "    \"- a math agent. Assign math-related tasks to this agent\\n\"\n",
    "    \"Assign work to one agent at a time, do not call agents in parallel.\\n\"\n",
    "    \"Do not do any work yourself.\"\n",
    ")"
   ]
  },
  {
   "cell_type": "code",
   "execution_count": 13,
   "id": "65b92421",
   "metadata": {},
   "outputs": [],
   "source": [
    "supervisor_agent = create_react_agent(\n",
    "    model=\"openai:gpt-4o\",\n",
    "    tools=[assign_to_research_agent, assign_to_math_agent],\n",
    "    prompt=supervisor_prompt,\n",
    "    name='supervisor'\n",
    ")"
   ]
  },
  {
   "cell_type": "markdown",
   "id": "82b94bdc",
   "metadata": {},
   "source": [
    "##### Create mulit agent graph"
   ]
  },
  {
   "cell_type": "code",
   "execution_count": 14,
   "id": "4904ce72",
   "metadata": {},
   "outputs": [],
   "source": [
    "supervisor = (\n",
    "    StateGraph(MessagesState)\n",
    "    .add_node(supervisor_agent, destinations=(\"research_agent\", \"math_agent\", END))\n",
    "    .add_node(research_agent)\n",
    "    .add_node(math_agent)\n",
    "    .add_edge(START, \"supervisor\")\n",
    "    .add_edge(\"research_agent\", \"supervisor\")\n",
    "    .add_edge('math_agent', 'supervisor')\n",
    "    .compile()\n",
    ")"
   ]
  },
  {
   "cell_type": "code",
   "execution_count": 15,
   "id": "484ceb78",
   "metadata": {},
   "outputs": [
    {
     "data": {
      "image/png": "[encoded data removed]",
      "text/plain": [
       "<IPython.core.display.Image object>"
      ]
     },
     "metadata": {},
     "output_type": "display_data"
    }
   ],
   "source": [
    "display(Image(supervisor.get_graph().draw_mermaid_png()))"
   ]
  },
  {
   "cell_type": "code",
   "execution_count": 16,
   "id": "d3ae5739",
   "metadata": {},
   "outputs": [
    {
     "name": "stdout",
     "output_type": "stream",
     "text": [
      "Update from node supervisor:\n",
      "\n",
      "\n",
      "==================================\u001b[1m Ai Message \u001b[0m==================================\n",
      "Name: supervisor\n",
      "Tool Calls:\n",
      "  transfer_to_research_agent (call_nsTgjznucwyvvfYkMSFYyPai)\n",
      " Call ID: call_nsTgjznucwyvvfYkMSFYyPai\n",
      "  Args:\n",
      "\n",
      "\n"
     ]
    },
    {
     "ename": "ValueError",
     "evalue": "Found AIMessages with tool_calls that do not have a corresponding ToolMessage. Here are the first few of those tool calls: [{'name': 'transfer_to_research_agent', 'args': {}, 'id': 'call_nsTgjznucwyvvfYkMSFYyPai', 'type': 'tool_call'}].\n\nEvery tool call (LLM requesting to call a tool) in the message history MUST have a corresponding ToolMessage (result of a tool invocation to return to the LLM) - this is required by most LLM providers.\nFor troubleshooting, visit: https://python.langchain.com/docs/troubleshooting/errors/INVALID_CHAT_HISTORY",
     "output_type": "error",
     "traceback": [
      "\u001b[31m---------------------------------------------------------------------------\u001b[39m",
      "\u001b[31mValueError\u001b[39m                                Traceback (most recent call last)",
      "\u001b[36mCell\u001b[39m\u001b[36m \u001b[39m\u001b[32mIn[16]\u001b[39m\u001b[32m, line 1\u001b[39m\n\u001b[32m----> \u001b[39m\u001b[32m1\u001b[39m \u001b[38;5;28;01masync\u001b[39;00m \u001b[38;5;28;01mfor\u001b[39;00m chunk \u001b[38;5;129;01min\u001b[39;00m supervisor.astream(\n\u001b[32m      2\u001b[39m     {\n\u001b[32m      3\u001b[39m         \u001b[33m\"\u001b[39m\u001b[33mmessages\u001b[39m\u001b[33m\"\u001b[39m: [\n\u001b[32m      4\u001b[39m             {\n\u001b[32m      5\u001b[39m                 \u001b[33m\"\u001b[39m\u001b[33mrole\u001b[39m\u001b[33m\"\u001b[39m: \u001b[33m\"\u001b[39m\u001b[33muser\u001b[39m\u001b[33m\"\u001b[39m,\n\u001b[32m      6\u001b[39m                 \u001b[33m\"\u001b[39m\u001b[33mcontent\u001b[39m\u001b[33m\"\u001b[39m: \u001b[33m\"\u001b[39m\u001b[33mfind US and New York state GDP in 2024,  what \u001b[39m\u001b[38;5;132;01m% o\u001b[39;00m\u001b[33mf US GDP was New York state?\u001b[39m\u001b[33m\"\u001b[39m\n\u001b[32m      7\u001b[39m             }\n\u001b[32m      8\u001b[39m         ]\n\u001b[32m      9\u001b[39m     }\n\u001b[32m     10\u001b[39m ):\n\u001b[32m     11\u001b[39m     \u001b[38;5;28;01mawait\u001b[39;00m pretty_print_messages(chunk, last_message=\u001b[38;5;28;01mTrue\u001b[39;00m)\n\u001b[32m     13\u001b[39m final_message_history = chunk[\u001b[33m\"\u001b[39m\u001b[33msupervisor\u001b[39m\u001b[33m\"\u001b[39m][\u001b[33m\"\u001b[39m\u001b[33mmessages\u001b[39m\u001b[33m\"\u001b[39m]\n",
      "\u001b[36mFile \u001b[39m\u001b[32m~/Documents/gt-lef/agents/venv/agents/lib/python3.12/site-packages/langgraph/pregel/main.py:2976\u001b[39m, in \u001b[36mPregel.astream\u001b[39m\u001b[34m(self, input, config, context, stream_mode, print_mode, output_keys, interrupt_before, interrupt_after, durability, subgraphs, debug, **kwargs)\u001b[39m\n\u001b[32m   2974\u001b[39m \u001b[38;5;28;01mfor\u001b[39;00m task \u001b[38;5;129;01min\u001b[39;00m \u001b[38;5;28;01mawait\u001b[39;00m loop.amatch_cached_writes():\n\u001b[32m   2975\u001b[39m     loop.output_writes(task.id, task.writes, cached=\u001b[38;5;28;01mTrue\u001b[39;00m)\n\u001b[32m-> \u001b[39m\u001b[32m2976\u001b[39m \u001b[38;5;28;01masync\u001b[39;00m \u001b[38;5;28;01mfor\u001b[39;00m _ \u001b[38;5;129;01min\u001b[39;00m runner.atick(\n\u001b[32m   2977\u001b[39m     [t \u001b[38;5;28;01mfor\u001b[39;00m t \u001b[38;5;129;01min\u001b[39;00m loop.tasks.values() \u001b[38;5;28;01mif\u001b[39;00m \u001b[38;5;129;01mnot\u001b[39;00m t.writes],\n\u001b[32m   2978\u001b[39m     timeout=\u001b[38;5;28mself\u001b[39m.step_timeout,\n\u001b[32m   2979\u001b[39m     get_waiter=get_waiter,\n\u001b[32m   2980\u001b[39m     schedule_task=loop.aaccept_push,\n\u001b[32m   2981\u001b[39m ):\n\u001b[32m   2982\u001b[39m     \u001b[38;5;66;03m# emit output\u001b[39;00m\n\u001b[32m   2983\u001b[39m     \u001b[38;5;28;01mfor\u001b[39;00m o \u001b[38;5;129;01min\u001b[39;00m _output(\n\u001b[32m   2984\u001b[39m         stream_mode,\n\u001b[32m   2985\u001b[39m         print_mode,\n\u001b[32m   (...)\u001b[39m\u001b[32m   2988\u001b[39m         asyncio.QueueEmpty,\n\u001b[32m   2989\u001b[39m     ):\n\u001b[32m   2990\u001b[39m         \u001b[38;5;28;01myield\u001b[39;00m o\n",
      "\u001b[36mFile \u001b[39m\u001b[32m~/Documents/gt-lef/agents/venv/agents/lib/python3.12/site-packages/langgraph/pregel/_runner.py:295\u001b[39m, in \u001b[36mPregelRunner.atick\u001b[39m\u001b[34m(self, tasks, reraise, timeout, retry_policy, get_waiter, schedule_task)\u001b[39m\n\u001b[32m    293\u001b[39m t = tasks[\u001b[32m0\u001b[39m]\n\u001b[32m    294\u001b[39m \u001b[38;5;28;01mtry\u001b[39;00m:\n\u001b[32m--> \u001b[39m\u001b[32m295\u001b[39m     \u001b[38;5;28;01mawait\u001b[39;00m arun_with_retry(\n\u001b[32m    296\u001b[39m         t,\n\u001b[32m    297\u001b[39m         retry_policy,\n\u001b[32m    298\u001b[39m         stream=\u001b[38;5;28mself\u001b[39m.use_astream,\n\u001b[32m    299\u001b[39m         configurable={\n\u001b[32m    300\u001b[39m             CONFIG_KEY_CALL: partial(\n\u001b[32m    301\u001b[39m                 _acall,\n\u001b[32m    302\u001b[39m                 weakref.ref(t),\n\u001b[32m    303\u001b[39m                 stream=\u001b[38;5;28mself\u001b[39m.use_astream,\n\u001b[32m    304\u001b[39m                 retry_policy=retry_policy,\n\u001b[32m    305\u001b[39m                 futures=weakref.ref(futures),\n\u001b[32m    306\u001b[39m                 schedule_task=schedule_task,\n\u001b[32m    307\u001b[39m                 submit=\u001b[38;5;28mself\u001b[39m.submit,\n\u001b[32m    308\u001b[39m                 loop=loop,\n\u001b[32m    309\u001b[39m             ),\n\u001b[32m    310\u001b[39m         },\n\u001b[32m    311\u001b[39m     )\n\u001b[32m    312\u001b[39m     \u001b[38;5;28mself\u001b[39m.commit(t, \u001b[38;5;28;01mNone\u001b[39;00m)\n\u001b[32m    313\u001b[39m \u001b[38;5;28;01mexcept\u001b[39;00m \u001b[38;5;167;01mException\u001b[39;00m \u001b[38;5;28;01mas\u001b[39;00m exc:\n",
      "\u001b[36mFile \u001b[39m\u001b[32m~/Documents/gt-lef/agents/venv/agents/lib/python3.12/site-packages/langgraph/pregel/_retry.py:137\u001b[39m, in \u001b[36marun_with_retry\u001b[39m\u001b[34m(task, retry_policy, stream, match_cached_writes, configurable)\u001b[39m\n\u001b[32m    135\u001b[39m         \u001b[38;5;28;01mbreak\u001b[39;00m\n\u001b[32m    136\u001b[39m     \u001b[38;5;28;01melse\u001b[39;00m:\n\u001b[32m--> \u001b[39m\u001b[32m137\u001b[39m         \u001b[38;5;28;01mreturn\u001b[39;00m \u001b[38;5;28;01mawait\u001b[39;00m task.proc.ainvoke(task.input, config)\n\u001b[32m    138\u001b[39m \u001b[38;5;28;01mexcept\u001b[39;00m ParentCommand \u001b[38;5;28;01mas\u001b[39;00m exc:\n\u001b[32m    139\u001b[39m     ns: \u001b[38;5;28mstr\u001b[39m = config[CONF][CONFIG_KEY_CHECKPOINT_NS]\n",
      "\u001b[36mFile \u001b[39m\u001b[32m~/Documents/gt-lef/agents/venv/agents/lib/python3.12/site-packages/langgraph/_internal/_runnable.py:706\u001b[39m, in \u001b[36mRunnableSeq.ainvoke\u001b[39m\u001b[34m(self, input, config, **kwargs)\u001b[39m\n\u001b[32m    704\u001b[39m     \u001b[38;5;66;03m# run in context\u001b[39;00m\n\u001b[32m    705\u001b[39m     \u001b[38;5;28;01mwith\u001b[39;00m set_config_context(config, run) \u001b[38;5;28;01mas\u001b[39;00m context:\n\u001b[32m--> \u001b[39m\u001b[32m706\u001b[39m         \u001b[38;5;28minput\u001b[39m = \u001b[38;5;28;01mawait\u001b[39;00m asyncio.create_task(\n\u001b[32m    707\u001b[39m             step.ainvoke(\u001b[38;5;28minput\u001b[39m, config, **kwargs), context=context\n\u001b[32m    708\u001b[39m         )\n\u001b[32m    709\u001b[39m \u001b[38;5;28;01melse\u001b[39;00m:\n\u001b[32m    710\u001b[39m     \u001b[38;5;28minput\u001b[39m = \u001b[38;5;28;01mawait\u001b[39;00m step.ainvoke(\u001b[38;5;28minput\u001b[39m, config, **kwargs)\n",
      "\u001b[36mFile \u001b[39m\u001b[32m~/Documents/gt-lef/agents/venv/agents/lib/python3.12/site-packages/langgraph/pregel/main.py:3154\u001b[39m, in \u001b[36mPregel.ainvoke\u001b[39m\u001b[34m(self, input, config, context, stream_mode, print_mode, output_keys, interrupt_before, interrupt_after, durability, **kwargs)\u001b[39m\n\u001b[32m   3151\u001b[39m chunks: \u001b[38;5;28mlist\u001b[39m[\u001b[38;5;28mdict\u001b[39m[\u001b[38;5;28mstr\u001b[39m, Any] | Any] = []\n\u001b[32m   3152\u001b[39m interrupts: \u001b[38;5;28mlist\u001b[39m[Interrupt] = []\n\u001b[32m-> \u001b[39m\u001b[32m3154\u001b[39m \u001b[38;5;28;01masync\u001b[39;00m \u001b[38;5;28;01mfor\u001b[39;00m chunk \u001b[38;5;129;01min\u001b[39;00m \u001b[38;5;28mself\u001b[39m.astream(\n\u001b[32m   3155\u001b[39m     \u001b[38;5;28minput\u001b[39m,\n\u001b[32m   3156\u001b[39m     config,\n\u001b[32m   3157\u001b[39m     context=context,\n\u001b[32m   3158\u001b[39m     stream_mode=[\u001b[33m\"\u001b[39m\u001b[33mupdates\u001b[39m\u001b[33m\"\u001b[39m, \u001b[33m\"\u001b[39m\u001b[33mvalues\u001b[39m\u001b[33m\"\u001b[39m]\n\u001b[32m   3159\u001b[39m     \u001b[38;5;28;01mif\u001b[39;00m stream_mode == \u001b[33m\"\u001b[39m\u001b[33mvalues\u001b[39m\u001b[33m\"\u001b[39m\n\u001b[32m   3160\u001b[39m     \u001b[38;5;28;01melse\u001b[39;00m stream_mode,\n\u001b[32m   3161\u001b[39m     print_mode=print_mode,\n\u001b[32m   3162\u001b[39m     output_keys=output_keys,\n\u001b[32m   3163\u001b[39m     interrupt_before=interrupt_before,\n\u001b[32m   3164\u001b[39m     interrupt_after=interrupt_after,\n\u001b[32m   3165\u001b[39m     durability=durability,\n\u001b[32m   3166\u001b[39m     **kwargs,\n\u001b[32m   3167\u001b[39m ):\n\u001b[32m   3168\u001b[39m     \u001b[38;5;28;01mif\u001b[39;00m stream_mode == \u001b[33m\"\u001b[39m\u001b[33mvalues\u001b[39m\u001b[33m\"\u001b[39m:\n\u001b[32m   3169\u001b[39m         \u001b[38;5;28;01mif\u001b[39;00m \u001b[38;5;28mlen\u001b[39m(chunk) == \u001b[32m2\u001b[39m:\n",
      "\u001b[36mFile \u001b[39m\u001b[32m~/Documents/gt-lef/agents/venv/agents/lib/python3.12/site-packages/langgraph/pregel/main.py:2976\u001b[39m, in \u001b[36mPregel.astream\u001b[39m\u001b[34m(self, input, config, context, stream_mode, print_mode, output_keys, interrupt_before, interrupt_after, durability, subgraphs, debug, **kwargs)\u001b[39m\n\u001b[32m   2974\u001b[39m \u001b[38;5;28;01mfor\u001b[39;00m task \u001b[38;5;129;01min\u001b[39;00m \u001b[38;5;28;01mawait\u001b[39;00m loop.amatch_cached_writes():\n\u001b[32m   2975\u001b[39m     loop.output_writes(task.id, task.writes, cached=\u001b[38;5;28;01mTrue\u001b[39;00m)\n\u001b[32m-> \u001b[39m\u001b[32m2976\u001b[39m \u001b[38;5;28;01masync\u001b[39;00m \u001b[38;5;28;01mfor\u001b[39;00m _ \u001b[38;5;129;01min\u001b[39;00m runner.atick(\n\u001b[32m   2977\u001b[39m     [t \u001b[38;5;28;01mfor\u001b[39;00m t \u001b[38;5;129;01min\u001b[39;00m loop.tasks.values() \u001b[38;5;28;01mif\u001b[39;00m \u001b[38;5;129;01mnot\u001b[39;00m t.writes],\n\u001b[32m   2978\u001b[39m     timeout=\u001b[38;5;28mself\u001b[39m.step_timeout,\n\u001b[32m   2979\u001b[39m     get_waiter=get_waiter,\n\u001b[32m   2980\u001b[39m     schedule_task=loop.aaccept_push,\n\u001b[32m   2981\u001b[39m ):\n\u001b[32m   2982\u001b[39m     \u001b[38;5;66;03m# emit output\u001b[39;00m\n\u001b[32m   2983\u001b[39m     \u001b[38;5;28;01mfor\u001b[39;00m o \u001b[38;5;129;01min\u001b[39;00m _output(\n\u001b[32m   2984\u001b[39m         stream_mode,\n\u001b[32m   2985\u001b[39m         print_mode,\n\u001b[32m   (...)\u001b[39m\u001b[32m   2988\u001b[39m         asyncio.QueueEmpty,\n\u001b[32m   2989\u001b[39m     ):\n\u001b[32m   2990\u001b[39m         \u001b[38;5;28;01myield\u001b[39;00m o\n",
      "\u001b[36mFile \u001b[39m\u001b[32m~/Documents/gt-lef/agents/venv/agents/lib/python3.12/site-packages/langgraph/pregel/_runner.py:295\u001b[39m, in \u001b[36mPregelRunner.atick\u001b[39m\u001b[34m(self, tasks, reraise, timeout, retry_policy, get_waiter, schedule_task)\u001b[39m\n\u001b[32m    293\u001b[39m t = tasks[\u001b[32m0\u001b[39m]\n\u001b[32m    294\u001b[39m \u001b[38;5;28;01mtry\u001b[39;00m:\n\u001b[32m--> \u001b[39m\u001b[32m295\u001b[39m     \u001b[38;5;28;01mawait\u001b[39;00m arun_with_retry(\n\u001b[32m    296\u001b[39m         t,\n\u001b[32m    297\u001b[39m         retry_policy,\n\u001b[32m    298\u001b[39m         stream=\u001b[38;5;28mself\u001b[39m.use_astream,\n\u001b[32m    299\u001b[39m         configurable={\n\u001b[32m    300\u001b[39m             CONFIG_KEY_CALL: partial(\n\u001b[32m    301\u001b[39m                 _acall,\n\u001b[32m    302\u001b[39m                 weakref.ref(t),\n\u001b[32m    303\u001b[39m                 stream=\u001b[38;5;28mself\u001b[39m.use_astream,\n\u001b[32m    304\u001b[39m                 retry_policy=retry_policy,\n\u001b[32m    305\u001b[39m                 futures=weakref.ref(futures),\n\u001b[32m    306\u001b[39m                 schedule_task=schedule_task,\n\u001b[32m    307\u001b[39m                 submit=\u001b[38;5;28mself\u001b[39m.submit,\n\u001b[32m    308\u001b[39m                 loop=loop,\n\u001b[32m    309\u001b[39m             ),\n\u001b[32m    310\u001b[39m         },\n\u001b[32m    311\u001b[39m     )\n\u001b[32m    312\u001b[39m     \u001b[38;5;28mself\u001b[39m.commit(t, \u001b[38;5;28;01mNone\u001b[39;00m)\n\u001b[32m    313\u001b[39m \u001b[38;5;28;01mexcept\u001b[39;00m \u001b[38;5;167;01mException\u001b[39;00m \u001b[38;5;28;01mas\u001b[39;00m exc:\n",
      "\u001b[36mFile \u001b[39m\u001b[32m~/Documents/gt-lef/agents/venv/agents/lib/python3.12/site-packages/langgraph/pregel/_retry.py:137\u001b[39m, in \u001b[36marun_with_retry\u001b[39m\u001b[34m(task, retry_policy, stream, match_cached_writes, configurable)\u001b[39m\n\u001b[32m    135\u001b[39m         \u001b[38;5;28;01mbreak\u001b[39;00m\n\u001b[32m    136\u001b[39m     \u001b[38;5;28;01melse\u001b[39;00m:\n\u001b[32m--> \u001b[39m\u001b[32m137\u001b[39m         \u001b[38;5;28;01mreturn\u001b[39;00m \u001b[38;5;28;01mawait\u001b[39;00m task.proc.ainvoke(task.input, config)\n\u001b[32m    138\u001b[39m \u001b[38;5;28;01mexcept\u001b[39;00m ParentCommand \u001b[38;5;28;01mas\u001b[39;00m exc:\n\u001b[32m    139\u001b[39m     ns: \u001b[38;5;28mstr\u001b[39m = config[CONF][CONFIG_KEY_CHECKPOINT_NS]\n",
      "\u001b[36mFile \u001b[39m\u001b[32m~/Documents/gt-lef/agents/venv/agents/lib/python3.12/site-packages/langgraph/_internal/_runnable.py:706\u001b[39m, in \u001b[36mRunnableSeq.ainvoke\u001b[39m\u001b[34m(self, input, config, **kwargs)\u001b[39m\n\u001b[32m    704\u001b[39m     \u001b[38;5;66;03m# run in context\u001b[39;00m\n\u001b[32m    705\u001b[39m     \u001b[38;5;28;01mwith\u001b[39;00m set_config_context(config, run) \u001b[38;5;28;01mas\u001b[39;00m context:\n\u001b[32m--> \u001b[39m\u001b[32m706\u001b[39m         \u001b[38;5;28minput\u001b[39m = \u001b[38;5;28;01mawait\u001b[39;00m asyncio.create_task(\n\u001b[32m    707\u001b[39m             step.ainvoke(\u001b[38;5;28minput\u001b[39m, config, **kwargs), context=context\n\u001b[32m    708\u001b[39m         )\n\u001b[32m    709\u001b[39m \u001b[38;5;28;01melse\u001b[39;00m:\n\u001b[32m    710\u001b[39m     \u001b[38;5;28minput\u001b[39m = \u001b[38;5;28;01mawait\u001b[39;00m step.ainvoke(\u001b[38;5;28minput\u001b[39m, config, **kwargs)\n",
      "\u001b[36mFile \u001b[39m\u001b[32m~/Documents/gt-lef/agents/venv/agents/lib/python3.12/site-packages/langgraph/_internal/_runnable.py:465\u001b[39m, in \u001b[36mRunnableCallable.ainvoke\u001b[39m\u001b[34m(self, input, config, **kwargs)\u001b[39m\n\u001b[32m    463\u001b[39m         run = \u001b[38;5;28;01mNone\u001b[39;00m\n\u001b[32m    464\u001b[39m     \u001b[38;5;28;01mwith\u001b[39;00m set_config_context(child_config, run) \u001b[38;5;28;01mas\u001b[39;00m context:\n\u001b[32m--> \u001b[39m\u001b[32m465\u001b[39m         ret = \u001b[38;5;28;01mawait\u001b[39;00m asyncio.create_task(coro, context=context)\n\u001b[32m    466\u001b[39m \u001b[38;5;28;01melse\u001b[39;00m:\n\u001b[32m    467\u001b[39m     ret = \u001b[38;5;28;01mawait\u001b[39;00m coro\n",
      "\u001b[36mFile \u001b[39m\u001b[32m~/Documents/gt-lef/agents/venv/agents/lib/python3.12/site-packages/langgraph/prebuilt/chat_agent_executor.py:647\u001b[39m, in \u001b[36mcreate_react_agent.<locals>.acall_model\u001b[39m\u001b[34m(state, runtime, config)\u001b[39m\n\u001b[32m    644\u001b[39m \u001b[38;5;28;01masync\u001b[39;00m \u001b[38;5;28;01mdef\u001b[39;00m\u001b[38;5;250m \u001b[39m\u001b[34macall_model\u001b[39m(\n\u001b[32m    645\u001b[39m     state: StateSchema, runtime: Runtime[ContextT], config: RunnableConfig\n\u001b[32m    646\u001b[39m ) -> StateSchema:\n\u001b[32m--> \u001b[39m\u001b[32m647\u001b[39m     model_input = \u001b[43m_get_model_input_state\u001b[49m\u001b[43m(\u001b[49m\u001b[43mstate\u001b[49m\u001b[43m)\u001b[49m\n\u001b[32m    649\u001b[39m     \u001b[38;5;28;01mif\u001b[39;00m is_dynamic_model:\n\u001b[32m    650\u001b[39m         \u001b[38;5;66;03m# Resolve dynamic model at runtime and apply prompt\u001b[39;00m\n\u001b[32m    651\u001b[39m         \u001b[38;5;66;03m# (supports both sync and async)\u001b[39;00m\n\u001b[32m    652\u001b[39m         dynamic_model = \u001b[38;5;28;01mawait\u001b[39;00m _aresolve_model(state, runtime)\n",
      "\u001b[36mFile \u001b[39m\u001b[32m~/Documents/gt-lef/agents/venv/agents/lib/python3.12/site-packages/langgraph/prebuilt/chat_agent_executor.py:599\u001b[39m, in \u001b[36mcreate_react_agent.<locals>._get_model_input_state\u001b[39m\u001b[34m(state)\u001b[39m\n\u001b[32m    596\u001b[39m \u001b[38;5;28;01mif\u001b[39;00m messages \u001b[38;5;129;01mis\u001b[39;00m \u001b[38;5;28;01mNone\u001b[39;00m:\n\u001b[32m    597\u001b[39m     \u001b[38;5;28;01mraise\u001b[39;00m \u001b[38;5;167;01mValueError\u001b[39;00m(error_msg)\n\u001b[32m--> \u001b[39m\u001b[32m599\u001b[39m \u001b[43m_validate_chat_history\u001b[49m\u001b[43m(\u001b[49m\u001b[43mmessages\u001b[49m\u001b[43m)\u001b[49m\n\u001b[32m    600\u001b[39m \u001b[38;5;66;03m# we're passing messages under `messages` key, as this is expected by the prompt\u001b[39;00m\n\u001b[32m    601\u001b[39m \u001b[38;5;28;01mif\u001b[39;00m \u001b[38;5;28misinstance\u001b[39m(state_schema, \u001b[38;5;28mtype\u001b[39m) \u001b[38;5;129;01mand\u001b[39;00m \u001b[38;5;28missubclass\u001b[39m(state_schema, BaseModel):\n",
      "\u001b[36mFile \u001b[39m\u001b[32m~/Documents/gt-lef/agents/venv/agents/lib/python3.12/site-packages/langgraph/prebuilt/chat_agent_executor.py:245\u001b[39m, in \u001b[36m_validate_chat_history\u001b[39m\u001b[34m(messages)\u001b[39m\n\u001b[32m    236\u001b[39m     \u001b[38;5;28;01mreturn\u001b[39;00m\n\u001b[32m    238\u001b[39m error_message = create_error_message(\n\u001b[32m    239\u001b[39m     message=\u001b[33m\"\u001b[39m\u001b[33mFound AIMessages with tool_calls that do not have a corresponding ToolMessage. \u001b[39m\u001b[33m\"\u001b[39m\n\u001b[32m    240\u001b[39m     \u001b[33mf\u001b[39m\u001b[33m\"\u001b[39m\u001b[33mHere are the first few of those tool calls: \u001b[39m\u001b[38;5;132;01m{\u001b[39;00mtool_calls_without_results[:\u001b[32m3\u001b[39m]\u001b[38;5;132;01m}\u001b[39;00m\u001b[33m.\u001b[39m\u001b[38;5;130;01m\\n\u001b[39;00m\u001b[38;5;130;01m\\n\u001b[39;00m\u001b[33m\"\u001b[39m\n\u001b[32m   (...)\u001b[39m\u001b[32m    243\u001b[39m     error_code=ErrorCode.INVALID_CHAT_HISTORY,\n\u001b[32m    244\u001b[39m )\n\u001b[32m--> \u001b[39m\u001b[32m245\u001b[39m \u001b[38;5;28;01mraise\u001b[39;00m \u001b[38;5;167;01mValueError\u001b[39;00m(error_message)\n",
      "\u001b[31mValueError\u001b[39m: Found AIMessages with tool_calls that do not have a corresponding ToolMessage. Here are the first few of those tool calls: [{'name': 'transfer_to_research_agent', 'args': {}, 'id': 'call_nsTgjznucwyvvfYkMSFYyPai', 'type': 'tool_call'}].\n\nEvery tool call (LLM requesting to call a tool) in the message history MUST have a corresponding ToolMessage (result of a tool invocation to return to the LLM) - this is required by most LLM providers.\nFor troubleshooting, visit: https://python.langchain.com/docs/troubleshooting/errors/INVALID_CHAT_HISTORY",
      "During task with name 'agent' and id '271bfd7d-3014-0b6d-ba83-a1294e5c3385'",
      "During task with name 'research_agent' and id '7c775176-a2dc-2879-065a-91ba23596271'"
     ]
    }
   ],
   "source": [
    "async for chunk in supervisor.astream(\n",
    "    {\n",
    "        \"messages\": [\n",
    "            {\n",
    "                \"role\": \"user\",\n",
    "                \"content\": \"find US and New York state GDP in 2024,  what % of US GDP was New York state?\"\n",
    "            }\n",
    "        ]\n",
    "    }\n",
    "):\n",
    "    await pretty_print_messages(chunk, last_message=True)\n",
    "    \n",
    "final_message_history = chunk[\"supervisor\"][\"messages\"]"
   ]
  },
  {
   "cell_type": "code",
   "execution_count": null,
   "id": "d61196a2",
   "metadata": {},
   "outputs": [],
   "source": []
  },
  {
   "cell_type": "code",
   "execution_count": null,
   "id": "27183e67",
   "metadata": {},
   "outputs": [],
   "source": []
  },
  {
   "cell_type": "code",
   "execution_count": null,
   "id": "6120a22b",
   "metadata": {},
   "outputs": [],
   "source": []
  }
 ],
 "metadata": {
  "kernelspec": {
   "display_name": "agents",
   "language": "python",
   "name": "python3"
  },
  "language_info": {
   "codemirror_mode": {
    "name": "ipython",
    "version": 3
   },
   "file_extension": ".py",
   "mimetype": "text/x-python",
   "name": "python",
   "nbconvert_exporter": "python",
   "pygments_lexer": "ipython3",
   "version": "3.12.3"
  }
 },
 "nbformat": 4,
 "nbformat_minor": 5
}
