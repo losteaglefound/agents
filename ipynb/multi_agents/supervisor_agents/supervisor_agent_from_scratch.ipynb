{
 "cells": [
  {
   "cell_type": "markdown",
   "id": "a320ec2f",
   "metadata": {},
   "source": [
    "### Setup agent communication"
   ]
  },
  {
   "cell_type": "code",
   "execution_count": null,
   "id": "65b92421",
   "metadata": {},
   "outputs": [],
   "source": []
  },
  {
   "cell_type": "code",
   "execution_count": null,
   "id": "6120a22b",
   "metadata": {},
   "outputs": [],
   "source": []
  }
 ],
 "metadata": {
  "kernelspec": {
   "display_name": "agents",
   "language": "python",
   "name": "python3"
  },
  "language_info": {
   "name": "python",
   "version": "3.12.3"
  }
 },
 "nbformat": 4,
 "nbformat_minor": 5
}
