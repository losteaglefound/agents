{
 "cells": [
  {
   "cell_type": "code",
   "execution_count": 28,
   "id": "937327c5",
   "metadata": {},
   "outputs": [],
   "source": [
    "from traceback import format_exc\n",
    "from typing import Annotated, Literal\n",
    "\n",
    "from langgraph.checkpoint.memory import InMemorySaver\n",
    "from langgraph.graph import END, MessagesState, START, StateGraph\n",
    "from langgraph.prebuilt import create_react_agent\n",
    "from langgraph.types import Command\n",
    "from langchain_core.messages import BaseMessage, HumanMessage\n",
    "from langchain_core.tools import tool\n",
    "from langchain_experimental.utilities import PythonREPL\n",
    "from langchain_openai import ChatOpenAI\n",
    "from langchain_tavily import TavilySearch\n",
    "from IPython.display import Image, display"
   ]
  },
  {
   "cell_type": "markdown",
   "id": "a95bed85",
   "metadata": {},
   "source": [
    "### Memory"
   ]
  },
  {
   "cell_type": "code",
   "execution_count": 29,
   "id": "7212ed37",
   "metadata": {},
   "outputs": [],
   "source": [
    "memory = InMemorySaver()"
   ]
  },
  {
   "cell_type": "markdown",
   "id": "616ca682",
   "metadata": {},
   "source": [
    "### Tools"
   ]
  },
  {
   "cell_type": "code",
   "execution_count": 11,
   "id": "e063c1eb",
   "metadata": {},
   "outputs": [],
   "source": [
    "tavily_tool = TavilySearch(max_results=5)\n"
   ]
  },
  {
   "cell_type": "code",
   "execution_count": 12,
   "id": "ddbd9fff",
   "metadata": {},
   "outputs": [],
   "source": [
    "repl = PythonREPL()\n",
    "\n",
    "@tool\n",
    "def python_repl_tool(\n",
    "    code: Annotated[str, \"The python code to execute to generate your chart.\"],\n",
    "):\n",
    "    \"\"\"Use this to execute python code. If you want to see the output of a value,\n",
    "    you should print it out with `print(...)`. This is visible to the user.\"\"\"\n",
    "    try:\n",
    "        result = repl.run(code)\n",
    "    except BaseException as e:\n",
    "        return f\"Failed to execute. Error: {repr(e)}\"\n",
    "    result_str = f\"Successfully executed:\\n```python\\n{code}\\n```\\nStdout: {result}\"\n",
    "    return (\n",
    "        result_str + \"\\n\\nIf you have completed all tasks, respond with FINAL ANSWER.\"\n",
    "    )"
   ]
  },
  {
   "cell_type": "markdown",
   "id": "00330116",
   "metadata": {},
   "source": [
    "### Graph"
   ]
  },
  {
   "cell_type": "code",
   "execution_count": 57,
   "id": "a7742a22",
   "metadata": {},
   "outputs": [],
   "source": [
    "def make_system_prompt(suffix: str) -> str:\n",
    "    return (\n",
    "        \"You are a helpful AI assistant, collaborating with other assistants.\"\n",
    "        \" Use the provided tools to progress towards answering the question.\"\n",
    "        \" If you are unable to fully answer, that's OK, another assistant with different tools \"\n",
    "        \" will help where you left off. Execute what you can to make progress.\"\n",
    "        \n",
    "        \"\\nRespones format:\"\n",
    "        \"- Return the response in json dict format, with key `response` and `node`, the `response` will have your answer and `node` will contain your colleague name\"\n",
    "        \"- Prefix your answer with FINAL ANSWER so the team knows to stop, include the FINAL ANSWER in the value of `response` key. If you answer is complete, then set `node` key to None\"\n",
    "        \" If you or any of the other assistants have the final answer or deliverable, include \\\"FINAL ANSWER\\\" before your response\"\n",
    "        \"- Example for response with FINAL ANSWER: {'response': 'FINAL ANSWER <REPLACE THIS WITH YOUR ANSWER>', 'node': 'None'}\"\n",
    "        \"- Example for response without FINAL ANSWER: {'response': '<REPLACE THIS WITH YOUR ANSWER>', 'node': '<REPLACE THIS WITH YOUR COLLEAGUE NAME>'}\"\n",
    "        \n",
    "        f\"\\n{suffix}\"\n",
    "    )"
   ]
  },
  {
   "cell_type": "code",
   "execution_count": 14,
   "id": "2331e084",
   "metadata": {},
   "outputs": [],
   "source": [
    "llm = ChatOpenAI(model='gpt-4o')"
   ]
  },
  {
   "cell_type": "code",
   "execution_count": 15,
   "id": "05010f2d",
   "metadata": {},
   "outputs": [],
   "source": [
    "def get_next_node(last_message: BaseMessage, goto: str):\n",
    "    print(\"Last message:\", last_message.content)\n",
    "    # if \"FINAL ANSWER\" in last_message.content:\n",
    "    #     # Any agent decided the work is done\n",
    "    #     return END\n",
    "    # return goto\n",
    "    return END"
   ]
  },
  {
   "cell_type": "code",
   "execution_count": 59,
   "id": "3f351e63",
   "metadata": {},
   "outputs": [],
   "source": [
    "# Research agent and node\n",
    "research_agent = create_react_agent(\n",
    "    llm,\n",
    "    tools=[tavily_tool],\n",
    "    prompt=make_system_prompt(\n",
    "        \"You can only do research.\"\n",
    "        \" You job is to do thorough research the pass the research data to your colleague\"\n",
    "        \" You are working with a chart generator colleague and travel planner colleague.\"\n",
    "        \"\\nYou colleagues:\"\n",
    "        \"\\n - Chart generator: Can you chat for the provided record\"\n",
    "        \"\\n - Travel Planner: Can build details travel plan for the provided data.\"\n",
    "    ),\n",
    ")\n",
    "\n",
    "\n",
    "\n",
    "def research_node(\n",
    "    state: MessagesState,\n",
    ") -> Command[Literal['chart_generator', END]]:\n",
    "    result = research_agent.invoke(state)\n",
    "    goto = get_next_node(result['messages'][-1], 'chart_generator')\n",
    "    # wrap in a human message, as not all providers allow\n",
    "    # AI message at the last position of the input messages list\n",
    "    result['messages'][-1] = HumanMessage(\n",
    "        content=result['messages'][-1].content, name='researcher'\n",
    "    )\n",
    "    print(\"Research node:\", result['messages'][-1].content)\n",
    "    return Command(\n",
    "        update={\n",
    "            # share internal message history of research agent with other agents\n",
    "            \"messages\": result['messages'],\n",
    "        },\n",
    "        goto=goto\n",
    "    )"
   ]
  },
  {
   "cell_type": "code",
   "execution_count": 60,
   "id": "8c537832",
   "metadata": {},
   "outputs": [],
   "source": [
    "# Chart generator agent and node\n",
    "# NOTE: THIS PERFORMS ARBITRARY CODE EXECUTION, WHICH CAN BE UNSAFE WHEN NOT SANDBOXED\n",
    "chart_agent = create_react_agent(\n",
    "    llm,\n",
    "    [python_repl_tool],\n",
    "    prompt=make_system_prompt(\n",
    "        \"You can only generate charts. You are working with researcher colleague\"\n",
    "    ),\n",
    ")\n",
    "\n",
    "def chart_node(state: MessagesState) -> Command[Literal['researcher', END]]:\n",
    "    result = chart_agent.invoke(state)\n",
    "    goto = get_next_node(result['messages'][-1], 'researcher')\n",
    "    # wrap in a human message, as not all providers allow\n",
    "    # AI message at the last position of the input messages list\n",
    "    result['messages'][-1] = HumanMessage(\n",
    "        content=result['messages'][-1].content, name='chart_generator'\n",
    "    )\n",
    "    print(\"Chart node:\", result['messages'][-1].content)\n",
    "    return Command(\n",
    "        update={\n",
    "            # shared internal message history of chart agent with other agents\n",
    "            \"messages\": result['messages']\n",
    "        },\n",
    "        goto=goto,\n",
    "    )"
   ]
  },
  {
   "cell_type": "code",
   "execution_count": 64,
   "id": "a7897500",
   "metadata": {},
   "outputs": [],
   "source": [
    "# Traver platter\n",
    "travel_agent = create_react_agent(\n",
    "    llm,\n",
    "    tools=[],\n",
    "    prompt=make_system_prompt(\n",
    "        \"You can only do travel plan.\"\n",
    "        \"The data will be provided to you, after the research by your researcher colleague, you need to build travel plan from it.\"\n",
    "    ),\n",
    ")\n",
    "\n",
    "def travel_node(state: MessagesState) -> Command[Literal['researcher', END]]:\n",
    "    result = travel_agent.invoke(state)\n",
    "    goto = get_next_node(result['messages'][-1], 'researcher')\n",
    "    # wrap in a human message, as not all providers allow\n",
    "    # AI message at the last position of the input messages list\n",
    "    result['messages'][-1] = HumanMessage(\n",
    "        content=result['messages'][-1].content, name='chart_generator'\n",
    "    )\n",
    "    print(\"Travel node:\", result['messages'][-1].content)\n",
    "    return Command(\n",
    "        update={\n",
    "            # shared internal message history of chart agent with other agents\n",
    "            \"messages\": result['messages']\n",
    "        },\n",
    "        goto=goto,\n",
    "    )"
   ]
  },
  {
   "cell_type": "code",
   "execution_count": 65,
   "id": "6548ffa6",
   "metadata": {},
   "outputs": [
    {
     "name": "stdout",
     "output_type": "stream",
     "text": [
      "Last message: {'response': 'FINAL ANSWER To create a detailed four-month travel itinerary, here is a suggested plan: \\n\\n**Month 1: Iceland**\\n- **Week 1:** Arrive in Reykjavik, visit Blue Lagoon, explore the Golden Circle.\\n- **Week 2:** Venture to Skogafoss Waterfall, and begin the scenic drive on the Ring Road.\\n- **Week 3:** Explore Vatnajökull National Park and other southern coast attractions.\\n- **Week 4:** Return to Reykjavik, enjoy the city’s culture before departure.\\n\\n**Month 2: New Zealand**\\n- **Week 1:** Begin in Auckland and visit Rotorua’s geothermal wonders.\\n- **Week 2:** Travel to the Hobbiton Movie Set, then head to Wellington.\\n- **Week 3:** Fly to the South Island, explore Fiordland National Park.\\n- **Week 4:** Visit Aoraki/Mount Cook and enjoy the surrounding landscapes.\\n\\n**Month 3: Ireland**\\n- **Week 1:** Start in Dublin, experience vibrant neighborhoods and cultural sites.\\n- **Week 2:** Journey to the Cliffs of Moher and rural landscapes.\\n- **Week 3:** Explore Killarney National Park and Ring of Kerry.\\n- **Week 4:** Visit the historic Rock of Cashel and surrounding areas.\\n\\n**Month 4: Austria and Portugal**\\n- **Week 1:** Arrive in Vienna, tour Schönbrunn Palace and cultural attractions.\\n- **Week 2:** Travel to Salzburg and experience the music scene.\\n- **Week 3:** Visit Innsbruck, then head to Hallstatt for alpine tours.\\n- **Week 4:** Travel to Portugal, start in Lisbon, explore Alfama district.\\n- **Week 5:** Visit Sintra, Douro Valley, and end your journey at the beaches of Algarve.\\n\\nThis itinerary includes travel between countries, cultural and natural attractions, and relaxation spots to enjoy a peaceful and rejuvenating trip.', 'node': 'None'}\n",
      "Travel node: {'response': 'FINAL ANSWER To create a detailed four-month travel itinerary, here is a suggested plan: \\n\\n**Month 1: Iceland**\\n- **Week 1:** Arrive in Reykjavik, visit Blue Lagoon, explore the Golden Circle.\\n- **Week 2:** Venture to Skogafoss Waterfall, and begin the scenic drive on the Ring Road.\\n- **Week 3:** Explore Vatnajökull National Park and other southern coast attractions.\\n- **Week 4:** Return to Reykjavik, enjoy the city’s culture before departure.\\n\\n**Month 2: New Zealand**\\n- **Week 1:** Begin in Auckland and visit Rotorua’s geothermal wonders.\\n- **Week 2:** Travel to the Hobbiton Movie Set, then head to Wellington.\\n- **Week 3:** Fly to the South Island, explore Fiordland National Park.\\n- **Week 4:** Visit Aoraki/Mount Cook and enjoy the surrounding landscapes.\\n\\n**Month 3: Ireland**\\n- **Week 1:** Start in Dublin, experience vibrant neighborhoods and cultural sites.\\n- **Week 2:** Journey to the Cliffs of Moher and rural landscapes.\\n- **Week 3:** Explore Killarney National Park and Ring of Kerry.\\n- **Week 4:** Visit the historic Rock of Cashel and surrounding areas.\\n\\n**Month 4: Austria and Portugal**\\n- **Week 1:** Arrive in Vienna, tour Schönbrunn Palace and cultural attractions.\\n- **Week 2:** Travel to Salzburg and experience the music scene.\\n- **Week 3:** Visit Innsbruck, then head to Hallstatt for alpine tours.\\n- **Week 4:** Travel to Portugal, start in Lisbon, explore Alfama district.\\n- **Week 5:** Visit Sintra, Douro Valley, and end your journey at the beaches of Algarve.\\n\\nThis itinerary includes travel between countries, cultural and natural attractions, and relaxation spots to enjoy a peaceful and rejuvenating trip.', 'node': 'None'}\n"
     ]
    },
    {
     "data": {
      "text/plain": [
       "Command(update={'messages': [HumanMessage(content=\"\\nBased on the search results and current data on quiet countries, here are some potential destinations along with top attractions in those countries:\\n\\n1. **Iceland**\\n   - Top Attractions: Blue Lagoon, Golden Circle, Skogafoss Waterfall, Vatnajökull National Park.\\n   - Recommended Stay: 2-3 weeks for a thorough exploration including Reykjavik, scenic drives on the Ring Road, and exploring stunning natural landscapes.\\n\\n2. **New Zealand**\\n   - Top Attractions: Fiordland National Park, Hobbiton Movie Set, Rotorua's geothermal wonders, Aoraki/Mount Cook.\\n   - Recommended Stay: 3-4 weeks for both North and South Islands to enjoy national parks, cultural sites, and vibrant cities.\\n\\n3. **Ireland**\\n   - Top Attractions: Cliffs of Moher, Dublin's vibrant neighborhoods, Killarney National Park, and the historic Rock of Cashel.\\n   - Recommended Stay: 2-3 weeks for exploring both rural landscapes and historic cities.\\n\\n4. **Austria**\\n   - Top Attractions: Schönbrunn Palace, Hallstatt, Innsbruck, and the Salzburg music scene.\\n   - Recommended Stay: 2-3 weeks for experiencing Vienna, Salzburg, and alpine tours.\\n\\n5. **Portugal**\\n   - Top Attractions: Lisbon’s Alfama district, Douro Valley’s wine region, Sintra, and the beaches of Algarve.\\n   - Recommended Stay: 2-3 weeks to experience both urban culture and oceanic retreats.\\n\\nThese countries offer tranquil environments and stunning natural beauty, perfect for a peaceful and rejuvenating trip. For a detailed four-month itinerary covering accommodation, travel specifics between countries, and additional personalized recommendations based on your interests, a detailed travel plan should be crafted. Please let me know if you need further assistance planning your adventure! \\n\\n\", additional_kwargs={}, response_metadata={}, id='51b8ab7b-ced1-4dab-b0a2-a5baafaab253'), HumanMessage(content=\"{'response': 'FINAL ANSWER To create a detailed four-month travel itinerary, here is a suggested plan: \\\\n\\\\n**Month 1: Iceland**\\\\n- **Week 1:** Arrive in Reykjavik, visit Blue Lagoon, explore the Golden Circle.\\\\n- **Week 2:** Venture to Skogafoss Waterfall, and begin the scenic drive on the Ring Road.\\\\n- **Week 3:** Explore Vatnajökull National Park and other southern coast attractions.\\\\n- **Week 4:** Return to Reykjavik, enjoy the city’s culture before departure.\\\\n\\\\n**Month 2: New Zealand**\\\\n- **Week 1:** Begin in Auckland and visit Rotorua’s geothermal wonders.\\\\n- **Week 2:** Travel to the Hobbiton Movie Set, then head to Wellington.\\\\n- **Week 3:** Fly to the South Island, explore Fiordland National Park.\\\\n- **Week 4:** Visit Aoraki/Mount Cook and enjoy the surrounding landscapes.\\\\n\\\\n**Month 3: Ireland**\\\\n- **Week 1:** Start in Dublin, experience vibrant neighborhoods and cultural sites.\\\\n- **Week 2:** Journey to the Cliffs of Moher and rural landscapes.\\\\n- **Week 3:** Explore Killarney National Park and Ring of Kerry.\\\\n- **Week 4:** Visit the historic Rock of Cashel and surrounding areas.\\\\n\\\\n**Month 4: Austria and Portugal**\\\\n- **Week 1:** Arrive in Vienna, tour Schönbrunn Palace and cultural attractions.\\\\n- **Week 2:** Travel to Salzburg and experience the music scene.\\\\n- **Week 3:** Visit Innsbruck, then head to Hallstatt for alpine tours.\\\\n- **Week 4:** Travel to Portugal, start in Lisbon, explore Alfama district.\\\\n- **Week 5:** Visit Sintra, Douro Valley, and end your journey at the beaches of Algarve.\\\\n\\\\nThis itinerary includes travel between countries, cultural and natural attractions, and relaxation spots to enjoy a peaceful and rejuvenating trip.', 'node': 'None'}\", additional_kwargs={}, response_metadata={}, name='chart_generator')]}, goto='__end__')"
      ]
     },
     "execution_count": 65,
     "metadata": {},
     "output_type": "execute_result"
    }
   ],
   "source": [
    "# travel_research = \"\"\"Based on the search results, here are some recommendations for travel in each continent:\\n\\n### Europe\\n- **Amsterdam, Netherlands**: A vibrant city with canals, museums, and bustling nightlife. Visit museums, take a canal tour, and explore the city by bike.\\n- **Barcelona, Spain**: Known for its architecture by Gaudí, beautiful beaches, and vibrant neighborhoods.\\n- **Berlin, Germany**: Rich in history, art, and culture. Explore museums, historical sites, and experience the nightlife.\\n\\n### Asia\\n- **Tokyo, Japan**: A blend of modern and traditional, offering shopping, cuisine, and historical temples.\\n- **Palawan, Philippines**: Known for its stunning beaches, clear waters, and excellent diving spots.\\n- **Bangkok, Thailand**: Vibrant city with temples, markets, and delicious street food.\\n\\n### South America\\n- **Cusco, Peru**: Gateway to Machu Picchu and rich in Inca history.\\n- **Rio de Janeiro, Brazil**: Famous for its beaches, carnivals, and the iconic Christ the Redeemer statue.\\n- **Buenos Aires, Argentina**: Known for tango, vibrant neighborhoods, and culinary delights.\\n\\n### Australia\\n- **Sydney**: Famous for the Sydney Opera House, beaches, and vibrant cultural scene.\\n- **Great Barrier Reef**: A must-see for snorkeling and diving enthusiasts.\\n- **Melbourne**: Known for its art, coffee culture, and diverse cuisine.\\n\\n### Africa\\n- **Namibia**: Explore the Namib Desert and national parks with unique landscapes.\\n- **Botswana**: Known for safaris and wildlife in places like the Okavango Delta.\\n- **Morocco**: Experience the culture, food, and historic sites in cities like Marrakesh and Fes.\\n\\nI suggest collaborating with the travel planner colleague for a detailed itinerary, including length of stay and accommodations in each destination.\"\"\"\n",
    "# travel_research = \"\"\"Staying at each of the given quiet destinations, here are some detailed plans and top accommodations for your travel:\\n\\n**1. Baja California Sur, Mexico**\\n- **Places to Visit:** \\n  - Cabo Pulmo for scuba diving\\n  - La Ventana for mobula viewing\\n  - Ca\\u00f1on de la Zorra for hiking\\n  - Loreto - noted for historic architecture.\\n  - Mulege - famous for beaches and unique spots.\\n  - Espiritu Santo Island from La Paz is perfect for marine wildlife.\\n- **Accommodation Options:**\\n  - Paradisus Los Cabos - Adults only\\n  - Hotel Riu Palace Cabo San Lucas\\n  - Villa La Valencia Beach Resort & Spa\\n\\n**2. Bulgaria**\\n- **Places to Visit:** \\n  - St. Alexander Nevski Cathedral\\n  - Old Nessebar\\n  - Vitosha Boulevard\\n  - Rila mountains and monasteries\\n  - Plovdiv and Veliko Tarnovo for historical sites.\\n- **Accommodation Options:**\\n  - HI Hotels Imperial Resort\\n  - Meliá Sunny Beach\\n  - Alua Helios Bay for all-inclusive luxury experience.\\n\\n**3. St John, U.S. Virgin Islands**\\n- **Places to Visit:** \\n  - Virgin Islands National Park\\n  - Annaberg Sugar Mill Ruins\\n  - Trunk Bay for snorkeling\\n  - Waterlemon Cay for hidden gems\\n  - Jeep ride adventure\\n- **Accommodation Options:**\\n  - Trunk Bay beachside stays\\n  - Several luxurious camping options offer on-site amenities like rentals for snorkeling.\\n\\n**4. Faroe Islands**\\n- **Places to Visit:** \\n  - Waterfall at Múlafossur\\n  - Kalsoy island for Kallur lighthouse\\n  - Scenic buttercup routes\\n- **Accommodation Options:**\\n  - Hilton Garden Inn Faroe Islands\\n  - Hotel Føroyar\\n  - Quaint cottages at Mulafossur\\n\\n**5. Sifnos, Greece**\\n- **Places to Visit:** \\n  - Explore Kastro for a journey into the past\\n  - Vathi for a calm beachside day\\n  - Chrissopigi monastery\\n  - Apollonia for the village experience.\\n- **Accommodation Options:**\\n  - Platis Gialos Beach area\\n  - Nos Hotel & Villas\\n\\nFor a 4-month trip, it’s ideal to spend approximately 3-4 weeks in each destination allowing time to explore, relax, and experience local culture thoroughly. Planning such a trip would involve careful consideration of seasons and local events. Consider checking visa requirements and booking accommodations that allow flexible adjustments.\\n\\nFINAL ANSWER: For your query regarding a detailed 4-month itinerary visit combining quiet destinations Baja California Sur, Mexico; Bulgaria; St. John, U.S. Virgin Islands; Faroe Islands; and Sifnos, Greece, outlined are key places to visit and accommodation options to consider in each location. Use this detailed itinerary and plan to experience a unique and tranquil travel adventure.\"\"\"\n",
    "travel_research = \"\"\"\n",
    "Based on the search results and current data on quiet countries, here are some potential destinations along with top attractions in those countries:\n",
    "\n",
    "1. **Iceland**\n",
    "   - Top Attractions: Blue Lagoon, Golden Circle, Skogafoss Waterfall, Vatnajökull National Park.\n",
    "   - Recommended Stay: 2-3 weeks for a thorough exploration including Reykjavik, scenic drives on the Ring Road, and exploring stunning natural landscapes.\n",
    "\n",
    "2. **New Zealand**\n",
    "   - Top Attractions: Fiordland National Park, Hobbiton Movie Set, Rotorua's geothermal wonders, Aoraki/Mount Cook.\n",
    "   - Recommended Stay: 3-4 weeks for both North and South Islands to enjoy national parks, cultural sites, and vibrant cities.\n",
    "\n",
    "3. **Ireland**\n",
    "   - Top Attractions: Cliffs of Moher, Dublin's vibrant neighborhoods, Killarney National Park, and the historic Rock of Cashel.\n",
    "   - Recommended Stay: 2-3 weeks for exploring both rural landscapes and historic cities.\n",
    "\n",
    "4. **Austria**\n",
    "   - Top Attractions: Schönbrunn Palace, Hallstatt, Innsbruck, and the Salzburg music scene.\n",
    "   - Recommended Stay: 2-3 weeks for experiencing Vienna, Salzburg, and alpine tours.\n",
    "\n",
    "5. **Portugal**\n",
    "   - Top Attractions: Lisbon’s Alfama district, Douro Valley’s wine region, Sintra, and the beaches of Algarve.\n",
    "   - Recommended Stay: 2-3 weeks to experience both urban culture and oceanic retreats.\n",
    "\n",
    "These countries offer tranquil environments and stunning natural beauty, perfect for a peaceful and rejuvenating trip. For a detailed four-month itinerary covering accommodation, travel specifics between countries, and additional personalized recommendations based on your interests, a detailed travel plan should be crafted. Please let me know if you need further assistance planning your adventure! \n",
    "\n",
    "\"\"\"\n",
    "travel_node({\"messages\": travel_research})"
   ]
  },
  {
   "cell_type": "markdown",
   "id": "8b9f8f5b",
   "metadata": {},
   "source": [
    "### Define the Graph"
   ]
  },
  {
   "cell_type": "code",
   "execution_count": 51,
   "id": "7fb857e9",
   "metadata": {},
   "outputs": [],
   "source": [
    "workflow = StateGraph(MessagesState)\n",
    "workflow.add_node(\"researcher\", research_node)\n",
    "workflow.add_node(\"chart_generator\", chart_node)\n",
    "workflow.add_node(\"travel_planner\", travel_node)\n",
    "\n",
    "workflow.add_edge(START, \"researcher\")\n",
    "graph = workflow.compile(checkpointer=memory)"
   ]
  },
  {
   "cell_type": "code",
   "execution_count": 31,
   "id": "b4fde8c7",
   "metadata": {},
   "outputs": [
    {
     "name": "stdout",
     "output_type": "stream",
     "text": [
      "Traceback (most recent call last):\n",
      "  File \"/tmp/ipykernel_4538/2657203294.py\", line 2, in <module>\n",
      "    display(Image(graph.get_graph().draw_mermaid_png()))\n",
      "                  ^^^^^^^^^^^^^^^^^^^^^^^^^^^^^^^^^^^^\n",
      "  File \"/home/lap-68/Documents/gt-lef/agents/venv/agents/lib/python3.12/site-packages/langchain_core/runnables/graph.py\", line 702, in draw_mermaid_png\n",
      "    return draw_mermaid_png(\n",
      "           ^^^^^^^^^^^^^^^^^\n",
      "  File \"/home/lap-68/Documents/gt-lef/agents/venv/agents/lib/python3.12/site-packages/langchain_core/runnables/graph_mermaid.py\", line 310, in draw_mermaid_png\n",
      "    img_bytes = _render_mermaid_using_api(\n",
      "                ^^^^^^^^^^^^^^^^^^^^^^^^^^\n",
      "  File \"/home/lap-68/Documents/gt-lef/agents/venv/agents/lib/python3.12/site-packages/langchain_core/runnables/graph_mermaid.py\", line 463, in _render_mermaid_using_api\n",
      "    raise ValueError(msg)\n",
      "ValueError: Failed to reach https://mermaid.ink/ API while trying to render your graph. Status code: 400.\n",
      "\n",
      "To resolve this issue:\n",
      "1. Check your internet connection and try again\n",
      "2. Try with higher retry settings: `draw_mermaid_png(..., max_retries=5, retry_delay=2.0)`\n",
      "3. Use the Pyppeteer rendering method which will render your graph locally in a browser: `draw_mermaid_png(..., draw_method=MermaidDrawMethod.PYPPETEER)`\n",
      "\n"
     ]
    }
   ],
   "source": [
    "try:\n",
    "    display(Image(graph.get_graph().draw_mermaid_png()))\n",
    "except Exception:\n",
    "    print(format_exc())"
   ]
  },
  {
   "cell_type": "markdown",
   "id": "103af66b",
   "metadata": {},
   "source": [
    "### Invoke"
   ]
  },
  {
   "cell_type": "code",
   "execution_count": 52,
   "id": "87afaf02",
   "metadata": {},
   "outputs": [
    {
     "name": "stdout",
     "output_type": "stream",
     "text": [
      "Last message: {\"response\": \"I will pass your request on to a travel planning specialist who can help create a detailed itinerary for your journey across five quiet countries over four months.\", \"node\": \"travel planner\"}\n",
      "Research node: {\"response\": \"I will pass your request on to a travel planning specialist who can help create a detailed itinerary for your journey across five quiet countries over four months.\", \"node\": \"travel planner\"}\n",
      "{'researcher': {'messages': [HumanMessage(content='One want to visit five countries in 4 months, one want to visit quite countires generate a details plan for visiting places and staying in each countries, and during I should at each place.', additional_kwargs={}, response_metadata={}, id='c9a8009c-6f8b-4a02-98ec-9439952dbbdb'), HumanMessage(content='{\"response\": \"I will pass your request to a colleague who specializes in travel planning, and they will assist you in creating a detailed itinerary for your trip.\", \"node\": \"travel planner\"}', additional_kwargs={}, response_metadata={}, name='researcher', id='d5769f0b-a53c-43fb-88e5-0acb7b7b1c66'), HumanMessage(content='One want to visit five countries in 4 months, one want to visit quite countires generate a details plan for visiting places and staying in each countries, and during I should at each place.', additional_kwargs={}, response_metadata={}, id='09e03341-3778-48b8-8711-18e17f763e21'), AIMessage(content='', additional_kwargs={'tool_calls': [{'id': 'call_RSLUGRXHSHAE0hOqcTCZKys4', 'function': {'arguments': '{\"query\": \"quiet countries to visit in 2023\", \"search_depth\": \"advanced\"}', 'name': 'tavily_search'}, 'type': 'function'}, {'id': 'call_OVHBMoHC8UbiHuI9sN2lKqin', 'function': {'arguments': '{\"query\": \"top destinations in quiet countries\", \"search_depth\": \"advanced\"}', 'name': 'tavily_search'}, 'type': 'function'}], 'refusal': None}, response_metadata={'token_usage': {'completion_tokens': 69, 'prompt_tokens': 1675, 'total_tokens': 1744, 'completion_tokens_details': {'accepted_prediction_tokens': 0, 'audio_tokens': 0, 'reasoning_tokens': 0, 'rejected_prediction_tokens': 0}, 'prompt_tokens_details': {'audio_tokens': 0, 'cached_tokens': 0}}, 'model_name': 'gpt-4o-2024-08-06', 'system_fingerprint': 'fp_f33640a400', 'id': 'chatcmpl-CLtbyGWAhFmVstCgnebjidNtCtV6b', 'service_tier': 'default', 'finish_reason': 'tool_calls', 'logprobs': None}, id='run--da02ff0d-5c40-4ba6-afec-2ecd2a03d52a-0', tool_calls=[{'name': 'tavily_search', 'args': {'query': 'quiet countries to visit in 2023', 'search_depth': 'advanced'}, 'id': 'call_RSLUGRXHSHAE0hOqcTCZKys4', 'type': 'tool_call'}, {'name': 'tavily_search', 'args': {'query': 'top destinations in quiet countries', 'search_depth': 'advanced'}, 'id': 'call_OVHBMoHC8UbiHuI9sN2lKqin', 'type': 'tool_call'}], usage_metadata={'input_tokens': 1675, 'output_tokens': 69, 'total_tokens': 1744, 'input_token_details': {'audio': 0, 'cache_read': 0}, 'output_token_details': {'audio': 0, 'reasoning': 0}}), ToolMessage(content='{\"query\": \"quiet countries to visit in 2023\", \"follow_up_questions\": null, \"answer\": null, \"images\": [], \"results\": [{\"url\": \"https://www.bucketlistly.blog/posts/best-off-the-beaten-path-destinations-to-visit\", \"title\": \"Escape the Crowds: 8 Underrated Countries to Visit\", \"content\": \"The Pamir Highway is one of the most remote regions in the world, and it\\'s unlikely you will see any more than a couple of tourists, mostly bikers, at guesthouses at night when you travel the area, which makes for a great off-the-beaten path destination to visit. To start planning your trip, you can book a tour from a local travel agency (I recommend Andes Salt Expedition) when you arrive in Salar de Uyuni, or you can browse through the tours available online here. Start planning your trip to the Galapagos Island with this guide:The Cheapest Way To Travel To Galapagos Nepal is one of the cheapest countries you can travel to and yet you are able to get to some of the most beautiful and remote regions of the Himalayas.\", \"score\": 0.98569, \"raw_content\": null}, {\"url\": \"https://www.indietraveller.co/top-cheap-places-to-travel/\", \"title\": \"25 Amazingly Cheap Places You Should Travel To In 2025\", \"content\": \"Cheap travel destinations includeBulgaria, Romania, Vietnam, Nepal, Thailand, Mexico, and Morocco. Many countries allow spending $35-$50 per day.\", \"score\": 0.98417, \"raw_content\": null}, {\"url\": \"https://www.lonelyplanet.com/articles/best-off-grid-destinations-world\", \"title\": \"15 best places to go off-grid in 2023\", \"content\": \"Dec 26, 2022—Peace, quiet and the freshest of air:these are some of the most unique and exciting destinationsto get off-grid.\", \"score\": 0.97731, \"raw_content\": null}, {\"url\": \"https://www.outsideonline.com/adventure-travel/national-parks/quiet-destinations-2025/\", \"title\": \"9 Quiet Destinations That Cut Out All the Noise\", \"content\": \"Graham Averill is Outside magazine’s national parks columnist, but some of his favorite adventures have happened inside state parks. The Niobrara National Scenic River has also earned the distinction of being the first certified Quiet Trail from the Quiet Parks organization. The best way to explore the river and experience the soundscape is from the hull of a canoe.Most of the land surrounding the river is private ranch land, but the nine-mile stretch through theFort Niobrara National Wildlife Refuge just east of Valentine offers a scenic and mellow run with the chance to hop out of the boat and hike the refuge.Little Outlaw Canoe has canoe rentals (from $69). _Graham Averill is_ Outside _magazine’s national-parks columnist.\", \"score\": 0.95911, \"raw_content\": null}, {\"url\": \"https://www.travelandleisure.com/trip-ideas/most-relaxing-peaceful-destinations-worldwide\", \"title\": \"14 Relaxing Vacations to Dream About for Your Next Trip\", \"content\": \"When you need a relaxing vacation, these incredible destinations around the world offer soothing scenery from tropical beaches to tranquil forests.\", \"score\": 0.95493, \"raw_content\": null}], \"response_time\": 5.28, \"request_id\": \"106a0d4d-9543-4b90-8577-5048be911db7\"}', name='tavily_search', id='f726dc02-2b01-42a1-8370-d45a3d8af3d8', tool_call_id='call_RSLUGRXHSHAE0hOqcTCZKys4'), ToolMessage(content='{\"query\": \"top destinations in quiet countries\", \"follow_up_questions\": null, \"answer\": null, \"images\": [], \"results\": [{\"url\": \"https://www.visionofhumanity.org/maps/\", \"title\": \"Global Peace Index Map » The Most & Least ...\", \"content\": \"• 97 countries deteriorated in peacefulness, more than any year since the inception of the Global Peace Index in 2008. • Iceland, Ireland, Austria, New Zealand, and Singapore are the top 5 most peaceful countries in the world in 2024. • For the fifth consecutive year, Afghanistan is the least peaceful country, followed by Yemen, Syria, Russia and South Sudan. • Since 2008, the **level of global peacefulness has deteriorated** by 2%, with 75 countries recording a deterioration, while 86 improved. It is joined at the top of the index by New Zealand, Denmark, Portugal, and Slovenia.**• Conflict in the Middle East** has been the key driver of the global deterioration in peacefulness since 2008.\", \"score\": 0.98595, \"raw_content\": null}, {\"url\": \"https://justgoexploring.com/destinations/off-the-beaten-path-travel-destinations/\", \"title\": \"23 Epic Off-The-Beaten-Path Travel Destinations: Why You Should ...\", \"content\": \"Here are 23 of my favourite off-the-beaten-path travel destinations. I\\'ve been to all of them and can highly recommend each and every one of them.\", \"score\": 0.98534, \"raw_content\": null}, {\"url\": \"https://gfmag.com/data/most-peaceful-countries/\", \"title\": \"World\\'s Most Peaceful Country 2025 Global Peace Index\", \"content\": \"Afghanistan ranked as the world’s least peaceful country for six years in a row but was surpassed last year by South Sudan, Sudan and Yemen. While countries like Iceland and New Zealand may benefit from their geographic isolation—making them more culturally cohesive and less exposed to territorial disputes—several nations in the top positions of the index fought vicious wars at one point in history, but today are integral members of the world’s most peaceful region, Europe. New Zealand, the most peaceful country in the Asia-Pacific region, recorded an improvement in peacefulness over the past year of 3.1%, with just two indicators deteriorating: weapons imports and military expenditure as a percentage of GDP, which increased to stem personnel losses and revamp outdated naval and aerial capabilities.\", \"score\": 0.9836, \"raw_content\": null}, {\"url\": \"https://leisurelylinds.com/top-quiet-life-travel-destinations/\", \"title\": \"8 Amazing Places to Embrace the \\'Quiet Life\\' Travel Trend\", \"content\": \"I’m sharing 8 carefully selected **quiet travel destinations** from my own personal travels where you can relax and focus on wellness oriented activities for a truly *rejuvenating vacation*. My Faroe islands travel guides Because there are only a few hotels on the island, the best place to stay is usually a rental home. If you want to stay more local to the US, Utah is a great option for a **slow paced vacation.** Stay at the exclusive **The Lodge at Blue Sky**, an Auberge Collection hotel located on a ranch outside of Salt Lake City. Lindsey shares personal travel experiences from vacations she plans and pays for herself. She writes honest luxury hotel reviews, destination guides, foodie favorites, and some of the best beaches around the world from visiting over 20 countries.\", \"score\": 0.98308, \"raw_content\": null}, {\"url\": \"https://en.wikipedia.org/wiki/Global_Peace_Index\", \"title\": \"Global Peace Index\", \"content\": \"The **Global Peace Index** (**GPI**) is a report produced by the Australia-based NGO Institute for Economics & Peace (IEP) which measures the relative position of nations\\' and regions\\' peacefulness. The 2024 GPI indicates Iceland, Ireland, Austria, New Zealand, Singapore, Switzerland, Portugal, Denmark, Slovenia, Malaysia and Canada to be the most peaceful countries, while Yemen, Sudan, South Sudan, Afghanistan, Ukraine, Congo, Russia, Syria, Israel and Mali to be the least peaceful. Among the top 7 most populous nations accounting for over half of the world\\'s population and approximately half of the total GDP of the world, Indonesia ranks 48th overall on the Global Peace Index, China 88th, India 116th, Brazil 131st, the United States 132nd, Pakistan 140th and Nigeria 147th.\", \"score\": 0.97794, \"raw_content\": null}], \"response_time\": 2.74, \"request_id\": \"d3669808-8309-4c0b-8170-adb5f75b04f1\"}', name='tavily_search', id='2a6d61df-94a3-40e5-8a2f-c1092642b004', tool_call_id='call_OVHBMoHC8UbiHuI9sN2lKqin'), HumanMessage(content=\"Based on the search results and current data on quiet countries, here are some potential destinations along with top attractions in those countries:\\n\\n1. **Iceland**\\n   - Top Attractions: Blue Lagoon, Golden Circle, Skogafoss Waterfall, Vatnajökull National Park.\\n   - Recommended Stay: 2-3 weeks for a thorough exploration including Reykjavik, scenic drives on the Ring Road, and exploring stunning natural landscapes.\\n\\n2. **New Zealand**\\n   - Top Attractions: Fiordland National Park, Hobbiton Movie Set, Rotorua's geothermal wonders, Aoraki/Mount Cook.\\n   - Recommended Stay: 3-4 weeks for both North and South Islands to enjoy national parks, cultural sites, and vibrant cities.\\n\\n3. **Ireland**\\n   - Top Attractions: Cliffs of Moher, Dublin's vibrant neighborhoods, Killarney National Park, and the historic Rock of Cashel.\\n   - Recommended Stay: 2-3 weeks for exploring both rural landscapes and historic cities.\\n\\n4. **Austria**\\n   - Top Attractions: Schönbrunn Palace, Hallstatt, Innsbruck, and the Salzburg music scene.\\n   - Recommended Stay: 2-3 weeks for experiencing Vienna, Salzburg, and alpine tours.\\n\\n5. **Portugal**\\n   - Top Attractions: Lisbon’s Alfama district, Douro Valley’s wine region, Sintra, and the beaches of Algarve.\\n   - Recommended Stay: 2-3 weeks to experience both urban culture and oceanic retreats.\\n\\nThese countries offer tranquil environments and stunning natural beauty, perfect for a peaceful and rejuvenating trip. For a detailed four-month itinerary covering accommodation, travel specifics between countries, and additional personalized recommendations based on your interests, a detailed travel plan should be crafted. Please let me know if you need further assistance planning your adventure! \\n\\nYou can now proceed with your travel planning using this information. \", additional_kwargs={}, response_metadata={}, name='researcher', id='0d05803b-7912-43eb-b198-615d4586c22a'), HumanMessage(content='One want to visit five countries in 4 months, one want to visit quite countires generate a details plan for visiting places and staying in each countries, and during I should at each place.', additional_kwargs={}, response_metadata={}, id='7f922cd6-3b78-4e42-b777-59ce3d8569b7'), HumanMessage(content=\"Here's a detailed travel plan for visiting five quiet countries over a period of four months, with recommendations for places to visit and how long to stay at each location.\\n\\n### Month 1: **Iceland**\\n- **Reykjavik and Surroundings (1 week)**\\n  - **Visit:** Blue Lagoon, Reykjavik city tours, Golden Circle includes Þingvellir National Park, Gullfoss waterfall, and Geysir Geothermal Area.\\n  - **Stay:** Cozy guesthouses in Reykjavik.\\n  \\n- **Southern Coast and East Fjords (2 weeks)**\\n  - **Visit:** Skogafoss Waterfall, Vatnajökull National Park glaciers, and Eastern Fjords villages.\\n  - **Stay:** Farm stays in the countryside for an immersive experience.\\n\\n- **North Iceland (1 week)**\\n  - **Visit:** Akureyri, Lake Myvatn, Dettifoss Waterfall.\\n  - **Stay:** Local guesthouses in Akureyri.\\n\\n### Month 2: **New Zealand**\\n- **North Island (2 weeks)**\\n  - **Visit:** Rotorua for geothermal activities, Hobbiton Movie Set, Bay of Islands.\\n  - **Stay:** Boutique hotels or cabin rentals.\\n\\n- **South Island (2 weeks)**\\n  - **Visit:** Queenstown, Fiordland National Park, Aoraki/Mount Cook.\\n  - **Stay:** Lodges with mountain views.\\n\\n### Month 3: **Ireland**\\n- **Dublin and East Coast (1 week)**\\n  - **Visit:** Dublin Castle, Trinity College, Kilkenny Castle.\\n  - **Stay:** Historic inns or boutique hotels in Dublin.\\n\\n- **West Coast (2 weeks)**\\n  - **Visit:** Cliffs of Moher, Galway City, Connemara National Park.\\n  - **Stay:** Cozy B&Bs and countryside cottages.\\n\\n- **Northern Ireland (1 week)**\\n  - **Visit:** Giant's Causeway, Belfast, and the Antrim Coast.\\n  - **Stay:** Guesthouses near attractions.\\n\\n### Month 4: **Austria and Portugal**\\n#### Austria\\n- **Vienna and Surroundings (1 week)**\\n  - **Visit:** Schönbrunn Palace, St. Stephen's Cathedral, art museums.\\n  - **Stay:** Elegant city hotels or Airbnb.\\n\\n- **Salzburg and Alps (1 week)**\\n  - **Visit:** Salzburg's old town, Sound of Music tour, Großglockner High Alpine Road.\\n  - **Stay:** Alpine lodges with a view.\\n\\n#### Portugal\\n- **Lisbon and Surroundings (1 week)**\\n  - **Visit:** Alfama district, Jerónimos Monastery, Sintra’s palaces.\\n  - **Stay:** Traditional Portuguese guesthouses.\\n\\n- **Algarve Region (1 week)**\\n  - **Visit:** Beaches of Lagos, Maritime museum, local seafood villages.\\n  - **Stay:** Coastal resorts or villas.\\n\\nThis itinerary is designed to provide a balance of cultural exploration, natural beauty, and quiet relaxation. Be sure to allow for some flexibility based on travel conditions and personal interests.\", additional_kwargs={}, response_metadata={}, name='researcher', id='64663796-c705-48e0-abfa-f7027f9497d4'), HumanMessage(content='One want to visit five countries in 4 months, one want to visit quite countires generate a details plan for visiting places and staying in each countries, and during I should at each place.', additional_kwargs={}, response_metadata={}, id='7f9f7125-a5b3-4c7b-8711-b1bb21716283'), HumanMessage(content=\"I see you've requested a comprehensive travel plan. Here is a detailed itinerary for visiting five quiet countries over four months, with recommendations on where to stay and what to see:\\n\\n### Month 1: **Iceland**\\n- **Week 1-2: Reykjavik & Golden Circle**\\n  - **Stay:** Cozy guesthouses in Reykjavik.\\n  - **Visit:** Blue Lagoon, Þingvellir National Park, Gullfoss Waterfall, Geysir.\\n  \\n- **Week 3: Southern Iceland**\\n  - **Stay:** Farm stays in Vik or Hofn.\\n  - **Visit:** Skogafoss Waterfall, Reynisfjara Black Sand Beach, Vatnajökull Glacier.\\n\\n- **Week 4: Northern Iceland**\\n  - **Stay:** Local guesthouses in Akureyri or Myvatn.\\n  - **Visit:** Lake Myvatn, Dettifoss Waterfall, Godafoss Waterfall.\\n\\n### Month 2: **New Zealand**\\n- **Week 1-2: North Island**\\n  - **Stay:** Lodges in Rotorua or Hobbiton area.\\n  - **Visit:** Rotorua geothermal sites, Waitomo Caves, Hobbiton Movie Set.\\n\\n- **Week 3-4: South Island**\\n  - **Stay:** Hotels in Queenstown or Te Anau.\\n  - **Visit:** Fiordland National Park, Aoraki/Mount Cook, Milford Sound cruise.\\n\\n### Month 3: **Ireland**\\n- **Week 1: Dublin and Eastern Counties**\\n  - **Stay:** Boutique hotels in Dublin.\\n  - **Visit:** Trinity College, Dublin Castle, Wicklow Mountains.\\n\\n- **Week 2-3: Western Ireland**\\n  - **Stay:** B&Bs in Galway or Doolin.\\n  - **Visit:** Cliffs of Moher, Connemara National Park, Aran Islands.\\n\\n- **Week 4: Northern Ireland**\\n  - **Stay:** Inns near Belfast or Bushmills.\\n  - **Visit:** Giant's Causeway, Carrick-a-Rede Rope Bridge, Belfast city.\\n\\n### Month 4: **Austria and Portugal**\\n#### Austria\\n- **Week 1: Vienna and Surroundings**\\n  - **Stay:** Central hotels or Airbnb in Vienna.\\n  - **Visit:** Schönbrunn Palace, Belvedere Museum, Vienna Opera House.\\n\\n- **Week 2: Salzburg and Austrian Alps**\\n  - **Stay:** Mountain lodges or hotels.\\n  - **Visit:** Salzburg Old Town, Hohensalzburg Fortress, Sound of Music locations.\\n\\n#### Portugal\\n- **Week 3: Lisbon and Surroundings**\\n  - **Stay:** Guesthouses in Lisbon or Sintra.\\n  - **Visit:** Alfama district, Belem Tower, Sintra palaces.\\n\\n- **Week 4: Algarve Region**\\n  - **Stay:** Beach resorts in Lagos or Albufeira.\\n  - **Visit:** Praia da Marinha, Benagil Sea Cave, Ria Formosa.\\n\\nThis plan allows for rest and enjoyment of each destination while immersing in local cultures and sights. Adjustments can be made depending on specific interests or travel pace preferences. If you have any more specifications or need further adjustments, feel free to ask!\", additional_kwargs={}, response_metadata={}, name='researcher', id='1d90f82e-e4d4-49f9-94e8-674be685bcad'), HumanMessage(content='One want to visit five countries in 4 months, one want to visit quite countires generate a details plan for visiting places and staying in each countries, and during I should at each place.', additional_kwargs={}, response_metadata={}, id='7999d3c3-a51c-49d9-8b46-d9360e386a74'), HumanMessage(content=\"I understand you're interested in a detailed travel plan for visiting five quiet countries over a period of four months. Here are the recommendations:\\n\\n### Month 1: **Iceland**\\n- **Weeks 1-2: Reykjavik and Surroundings**\\n  - **Stay:** Guesthouses in Reykjavik.\\n  - **Visit:** Blue Lagoon, Golden Circle attractions (Þingvellir, Gullfoss, Geysir).\\n\\n- **Weeks 3-4: Southern Coast**\\n  - **Stay:** Cozy accommodations in Vik or Hofn.\\n  - **Visit:** Skogafoss, Reynisfjara Beach, Vatnajökull National Park.\\n\\n### Month 2: **New Zealand**\\n- **Weeks 1-2: North Island**\\n  - **Stay:** Lodges in Rotorua or Auckland.\\n  - **Visit:** Rotorua geothermal sites, Waitomo Caves, Hobbiton in Matamata.\\n\\n- **Weeks 3-4: South Island**\\n  - **Stay:** Hotels or cabins in Queenstown.\\n  - **Visit:** Queenstown adventures, Milford Sound, Aoraki/Mount Cook.\\n\\n### Month 3: **Ireland**\\n- **Weeks 1-2: Dublin and Eastern Ireland**\\n  - **Stay:** Boutique B&Bs in Dublin.\\n  - **Visit:** Trinity College, Glendalough, Wicklow Mountains.\\n\\n- **Weeks 3-4: Western Ireland**\\n  - **Stay:** Accommodation in Galway or Doolin.\\n  - **Visit:** Cliffs of Moher, Connemara, Aran Islands.\\n\\n### Month 4: **Austria and Portugal**\\n#### Austria\\n- **Weeks 1-2: Vienna and Salzburg**\\n  - **Stay:** Central hotels in Vienna.\\n  - **Visit:** Schönbrunn Palace, Belvedere, Salzburg's historic district.\\n\\n#### Portugal\\n- **Weeks 3-4: Lisbon and Algarve**\\n  - **Stay:** Local guesthouses or beach resorts in Lisbon and Algarve.\\n  - **Visit:** Lisbon's districts, Sintra, beaches of Algarve.\\n\\nThis itinerary provides a balance of cultural experiences, stunning nature, and relaxation in countries known for their peaceful environments. Enjoy your travels! If you have specific preferences or need further customization, feel free to ask!\\n{'response': 'FINAL ANSWER Here is a detailed travel plan for visiting five quiet countries over a period of four months. Each month focuses on exploration, cultural immersion, and relaxation in peaceful and tranquil environments.\\\\n\\\\n### Month 1: **Iceland**\\\\n- **Weeks 1-2: Reykjavik and Surroundings**\\\\n  - **Stay:** Guesthouses in Reykjavik.\\\\n  - **Visit:** Blue Lagoon, Golden Circle attractions (Þingvellir, Gullfoss, Geysir).\\\\n\\\\n- **Weeks 3-4: Southern Coast**\\\\n  - **Stay:** Cozy accommodations in Vik or Hofn.\\\\n  - **Visit:** Skogafoss, Reynisfjara Beach, Vatnajökull National Park.\\\\n\\\\n### Month 2: **New Zealand**\\\\n- **Weeks 1-2: North Island**\\\\n  - **Stay:** Lodges in Rotorua or Auckland.\\\\n  - **Visit:** Rotorua geothermal sites, Waitomo Caves, Hobbiton in Matamata.\\\\n\\\\n- **Weeks 3-4: South Island**\\\\n  - **Stay:** Hotels or cabins in Queenstown.\\\\n  - **Visit:** Queenstown adventures, Milford Sound, Aoraki/Mount Cook.\\\\n\\\\n### Month 3: **Ireland**\\\\n- **Weeks 1-2: Dublin and Eastern Ireland**\\\\n  - **Stay:** Boutique B&Bs in Dublin.\\\\n  - **Visit:** Trinity College, Glendalough, Wicklow Mountains.\\\\n\\\\n- **Weeks 3-4: Western Ireland**\\\\n  - **Stay:** Accommodation in Galway or Doolin.\\\\n  - **Visit:** Cliffs of Moher, Connemara, Aran Islands.\\\\n\\\\n### Month 4: **Austria and Portugal**\\\\n#### Austria\\\\n- **Weeks 1-2: Vienna and Salzburg**\\\\n  - **Stay:** Central hotels in Vienna.\\\\n  - **Visit:** Schönbrunn Palace, Belvedere, Salzburg\\\\'s historic district.\\\\n\\\\n#### Portugal\\\\n- **Weeks 3-4: Lisbon and Algarve**\\\\n  - **Stay:** Local guesthouses or beach resorts in Lisbon and Algarve.\\\\n  - **Visit:** Lisbon\\\\'s districts, Sintra, beaches of Algarve.\\\\n\\\\nThis itinerary offers a blend of natural beauty, cultural exploration, and serene experiences, ensuring a relaxing and enriching travel experience across these tranquil countries.', 'node': 'None'}\", additional_kwargs={}, response_metadata={}, name='researcher', id='48b23364-b703-45e3-a56d-d0a866d3d436'), HumanMessage(content='One want to visit five countries in 4 months, one want to visit quite countires generate a details plan for visiting places and staying in each countries, and during I should at each place.', additional_kwargs={}, response_metadata={}, id='226718dc-56c9-4c76-b53a-ac9cb94ba63c'), HumanMessage(content='{\"response\": \"I will pass your request on to a travel planning specialist who can help create a detailed itinerary for your journey across five quiet countries over four months.\", \"node\": \"travel planner\"}', additional_kwargs={}, response_metadata={}, name='researcher', id='8d58d749-ec1e-4c45-bf1e-d807c91e4d73')]}}\n",
      "-----\n"
     ]
    }
   ],
   "source": [
    "events = graph.stream(\n",
    "    {\n",
    "        \"messages\": [\n",
    "            (\n",
    "                \"user\",\n",
    "                # \"First, get the UK's GDP over the past 5 years, then make a line chat of it\"\n",
    "                # \"One you make the chart, finish.\"\n",
    "                \"One want to visit five countries in 4 months, \"\n",
    "                \"one want to visit quite countires \"\n",
    "                \"generate a details plan for visiting places \"\n",
    "                \"and staying in each countries, and during I should at each place.\"\n",
    "            ),\n",
    "            \n",
    "        ]\n",
    "    },\n",
    "    # Maximum number of steps to take in the graph\n",
    "    {\"recursion_limit\": 150, \"configurable\": {\"thread_id\": \"1\"}}\n",
    ")\n",
    "for s in events:\n",
    "    print(s)\n",
    "    print(\"-----\")"
   ]
  },
  {
   "cell_type": "code",
   "execution_count": null,
   "id": "be59303c",
   "metadata": {},
   "outputs": [],
   "source": []
  },
  {
   "cell_type": "code",
   "execution_count": null,
   "id": "4495f47b",
   "metadata": {},
   "outputs": [],
   "source": []
  },
  {
   "cell_type": "code",
   "execution_count": null,
   "id": "3d150ff0",
   "metadata": {},
   "outputs": [],
   "source": []
  }
 ],
 "metadata": {
  "kernelspec": {
   "display_name": "agents",
   "language": "python",
   "name": "python3"
  },
  "language_info": {
   "codemirror_mode": {
    "name": "ipython",
    "version": 3
   },
   "file_extension": ".py",
   "mimetype": "text/x-python",
   "name": "python",
   "nbconvert_exporter": "python",
   "pygments_lexer": "ipython3",
   "version": "3.12.3"
  }
 },
 "nbformat": 4,
 "nbformat_minor": 5
}
